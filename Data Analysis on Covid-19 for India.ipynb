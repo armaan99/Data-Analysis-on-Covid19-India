{
 "cells": [
  {
   "cell_type": "markdown",
   "metadata": {},
   "source": [
    "# DATA ANALYSIS ON \"COVID-19\" FOR \"INDIA\""
   ]
  },
  {
   "cell_type": "markdown",
   "metadata": {},
   "source": [
    "### TABLE OF CONTENTS\n",
    "<ol type='1'>\n",
    "    <li>Loading Dataset\n",
    "    <li>Subsetting dataset for location = \"INDIA\"\n",
    "    <li>Handling Missing Value\n",
    "    <li>Univariate Analysis\n",
    "       <ol type='a'>\n",
    "           <li>Histograms\n",
    "           <li>Mean of each column\n",
    "           <li>Median of each column\n",
    "           <li>Mode of each column\n",
    "       </ol>\n",
    "    <li>Bivariate Analysis\n",
    "       <ol type='a'>\n",
    "           <li>Scatter-plots\n",
    "           <li>Line-plots\n",
    "       </ol>\n",
    "    <li>Converting 'Date' column to Ordinal\n",
    "    <li>a.Dropping useless column\n",
    "        b.Converting Categorical to Numerical by Label Encoder\n",
    "    <li>Select 'Total_cases' column as Target Variable\n",
    "    <li>Selecting other columns as Features\n",
    "    <li>Performing Train-Test Split\n",
    "    <li>Modelling\n",
    "        <ol type='a'>\n",
    "            <li>Linear Regression\n",
    "            <li>Random Forest Regression\n",
    "        </ol>\n",
    "</ol>"
   ]
  },
  {
   "cell_type": "code",
   "execution_count": 1,
   "metadata": {},
   "outputs": [],
   "source": [
    "#importing python libraries\n",
    "\n",
    "import pandas as pd\n",
    "import numpy as np\n",
    "import matplotlib.pyplot as plt\n",
    "from sklearn.model_selection import train_test_split\n",
    "from sklearn.linear_model import LinearRegression\n",
    "from sklearn import metrics\n",
    "from sklearn.ensemble import RandomForestRegressor\n",
    "from sklearn.preprocessing import scale\n",
    "import datetime as dt"
   ]
  },
  {
   "cell_type": "markdown",
   "metadata": {},
   "source": [
    "## 1. Loading Dataset"
   ]
  },
  {
   "cell_type": "markdown",
   "metadata": {},
   "source": [
    "### Dataset has been downloaded from provided link as below\n",
    "#### https://covid.ourworldindata.org/data/owid-covid-data.csv\n",
    "#### This dataset has been saved in the same directory where this project is saved as \"owid-covid-data.csv\""
   ]
  },
  {
   "cell_type": "code",
   "execution_count": 2,
   "metadata": {},
   "outputs": [],
   "source": [
    "# import csv into dataframe object\n",
    "\n",
    "df = pd.read_csv(\"owid-covid-data.csv\")"
   ]
  },
  {
   "cell_type": "code",
   "execution_count": 3,
   "metadata": {},
   "outputs": [
    {
     "data": {
      "text/plain": [
       "(35297, 36)"
      ]
     },
     "execution_count": 3,
     "metadata": {},
     "output_type": "execute_result"
    }
   ],
   "source": [
    "# Check the shape of your data in (rows, columns) format\n",
    "\n",
    "df.shape"
   ]
  },
  {
   "cell_type": "markdown",
   "metadata": {},
   "source": [
    "## 2. Subsetting dataset for location = \"INDIA\""
   ]
  },
  {
   "cell_type": "code",
   "execution_count": 4,
   "metadata": {
    "scrolled": true
   },
   "outputs": [],
   "source": [
    "# Extracting only those rows where column value of location is India\n",
    "# and makin new dataframe for Indian dataset\n",
    "\n",
    "df_india = df.loc[df['location']=='India']"
   ]
  },
  {
   "cell_type": "code",
   "execution_count": 5,
   "metadata": {},
   "outputs": [
    {
     "data": {
      "text/plain": [
       "(220, 36)"
      ]
     },
     "execution_count": 5,
     "metadata": {},
     "output_type": "execute_result"
    }
   ],
   "source": [
    "# Check the shape of your new data in (rows, columns) format\n",
    "\n",
    "df_india.shape"
   ]
  },
  {
   "cell_type": "markdown",
   "metadata": {},
   "source": [
    "## 3. Handling Missing Values"
   ]
  },
  {
   "cell_type": "code",
   "execution_count": 6,
   "metadata": {},
   "outputs": [
    {
     "data": {
      "text/plain": [
       "iso_code                            0\n",
       "continent                           0\n",
       "location                            0\n",
       "date                                0\n",
       "total_cases                         0\n",
       "new_cases                           0\n",
       "total_deaths                        0\n",
       "new_deaths                          0\n",
       "total_cases_per_million             0\n",
       "new_cases_per_million               0\n",
       "total_deaths_per_million            0\n",
       "new_deaths_per_million              0\n",
       "new_tests                          90\n",
       "total_tests                        84\n",
       "total_tests_per_thousand           84\n",
       "new_tests_per_thousand             90\n",
       "new_tests_smoothed                 79\n",
       "new_tests_smoothed_per_thousand    79\n",
       "tests_per_case                     79\n",
       "positive_rate                      79\n",
       "tests_units                        72\n",
       "stringency_index                    1\n",
       "population                          0\n",
       "population_density                  0\n",
       "median_age                          0\n",
       "aged_65_older                       0\n",
       "aged_70_older                       0\n",
       "gdp_per_capita                      0\n",
       "extreme_poverty                     0\n",
       "cardiovasc_death_rate               0\n",
       "diabetes_prevalence                 0\n",
       "female_smokers                      0\n",
       "male_smokers                        0\n",
       "handwashing_facilities              0\n",
       "hospital_beds_per_thousand          0\n",
       "life_expectancy                     0\n",
       "dtype: int64"
      ]
     },
     "execution_count": 6,
     "metadata": {},
     "output_type": "execute_result"
    }
   ],
   "source": [
    "# Exploring how many null values are in each column of your dataset\n",
    "\n",
    "df_india.isnull().sum()"
   ]
  },
  {
   "cell_type": "code",
   "execution_count": 7,
   "metadata": {},
   "outputs": [
    {
     "name": "stderr",
     "output_type": "stream",
     "text": [
      "D:\\Utilities\\Anaconda\\lib\\site-packages\\ipykernel_launcher.py:3: SettingWithCopyWarning: \n",
      "A value is trying to be set on a copy of a slice from a DataFrame.\n",
      "Try using .loc[row_indexer,col_indexer] = value instead\n",
      "\n",
      "See the caveats in the documentation: http://pandas.pydata.org/pandas-docs/stable/user_guide/indexing.html#returning-a-view-versus-a-copy\n",
      "  This is separate from the ipykernel package so we can avoid doing imports until\n",
      "D:\\Utilities\\Anaconda\\lib\\site-packages\\ipykernel_launcher.py:4: SettingWithCopyWarning: \n",
      "A value is trying to be set on a copy of a slice from a DataFrame.\n",
      "Try using .loc[row_indexer,col_indexer] = value instead\n",
      "\n",
      "See the caveats in the documentation: http://pandas.pydata.org/pandas-docs/stable/user_guide/indexing.html#returning-a-view-versus-a-copy\n",
      "  after removing the cwd from sys.path.\n",
      "D:\\Utilities\\Anaconda\\lib\\site-packages\\ipykernel_launcher.py:5: SettingWithCopyWarning: \n",
      "A value is trying to be set on a copy of a slice from a DataFrame.\n",
      "Try using .loc[row_indexer,col_indexer] = value instead\n",
      "\n",
      "See the caveats in the documentation: http://pandas.pydata.org/pandas-docs/stable/user_guide/indexing.html#returning-a-view-versus-a-copy\n",
      "  \"\"\"\n",
      "D:\\Utilities\\Anaconda\\lib\\site-packages\\ipykernel_launcher.py:6: SettingWithCopyWarning: \n",
      "A value is trying to be set on a copy of a slice from a DataFrame.\n",
      "Try using .loc[row_indexer,col_indexer] = value instead\n",
      "\n",
      "See the caveats in the documentation: http://pandas.pydata.org/pandas-docs/stable/user_guide/indexing.html#returning-a-view-versus-a-copy\n",
      "  \n",
      "D:\\Utilities\\Anaconda\\lib\\site-packages\\ipykernel_launcher.py:7: SettingWithCopyWarning: \n",
      "A value is trying to be set on a copy of a slice from a DataFrame.\n",
      "Try using .loc[row_indexer,col_indexer] = value instead\n",
      "\n",
      "See the caveats in the documentation: http://pandas.pydata.org/pandas-docs/stable/user_guide/indexing.html#returning-a-view-versus-a-copy\n",
      "  import sys\n",
      "D:\\Utilities\\Anaconda\\lib\\site-packages\\ipykernel_launcher.py:8: SettingWithCopyWarning: \n",
      "A value is trying to be set on a copy of a slice from a DataFrame.\n",
      "Try using .loc[row_indexer,col_indexer] = value instead\n",
      "\n",
      "See the caveats in the documentation: http://pandas.pydata.org/pandas-docs/stable/user_guide/indexing.html#returning-a-view-versus-a-copy\n",
      "  \n",
      "D:\\Utilities\\Anaconda\\lib\\site-packages\\ipykernel_launcher.py:9: SettingWithCopyWarning: \n",
      "A value is trying to be set on a copy of a slice from a DataFrame.\n",
      "Try using .loc[row_indexer,col_indexer] = value instead\n",
      "\n",
      "See the caveats in the documentation: http://pandas.pydata.org/pandas-docs/stable/user_guide/indexing.html#returning-a-view-versus-a-copy\n",
      "  if __name__ == '__main__':\n",
      "D:\\Utilities\\Anaconda\\lib\\site-packages\\ipykernel_launcher.py:10: SettingWithCopyWarning: \n",
      "A value is trying to be set on a copy of a slice from a DataFrame.\n",
      "Try using .loc[row_indexer,col_indexer] = value instead\n",
      "\n",
      "See the caveats in the documentation: http://pandas.pydata.org/pandas-docs/stable/user_guide/indexing.html#returning-a-view-versus-a-copy\n",
      "  # Remove the CWD from sys.path while we load stuff.\n",
      "D:\\Utilities\\Anaconda\\lib\\site-packages\\ipykernel_launcher.py:11: SettingWithCopyWarning: \n",
      "A value is trying to be set on a copy of a slice from a DataFrame.\n",
      "Try using .loc[row_indexer,col_indexer] = value instead\n",
      "\n",
      "See the caveats in the documentation: http://pandas.pydata.org/pandas-docs/stable/user_guide/indexing.html#returning-a-view-versus-a-copy\n",
      "  # This is added back by InteractiveShellApp.init_path()\n",
      "D:\\Utilities\\Anaconda\\lib\\site-packages\\ipykernel_launcher.py:12: SettingWithCopyWarning: \n",
      "A value is trying to be set on a copy of a slice from a DataFrame.\n",
      "Try using .loc[row_indexer,col_indexer] = value instead\n",
      "\n",
      "See the caveats in the documentation: http://pandas.pydata.org/pandas-docs/stable/user_guide/indexing.html#returning-a-view-versus-a-copy\n",
      "  if sys.path[0] == '':\n"
     ]
    }
   ],
   "source": [
    "# Replacing null values by the mean of that column\n",
    "\n",
    "df_india['new_tests'] = df_india['new_tests'].fillna(df_india['new_tests'].mean(axis=0, skipna=True))\n",
    "df_india['total_tests'] = df_india['total_tests'].fillna(df_india['total_tests'].mean(axis=0, skipna=True))\n",
    "df_india['total_tests_per_thousand'] = df_india['total_tests_per_thousand'].fillna(df_india['total_tests_per_thousand'].mean(axis=0, skipna=True))\n",
    "df_india['new_tests_per_thousand'] = df_india['new_tests_per_thousand'].fillna(df_india['new_tests_per_thousand'].mean(axis=0, skipna=True))\n",
    "df_india['new_tests_smoothed'] = df_india['new_tests_smoothed'].fillna(df_india['new_tests_smoothed'].mean(axis=0, skipna=True))\n",
    "df_india['new_tests_smoothed_per_thousand'] = df_india['new_tests_smoothed_per_thousand'].fillna(df_india['new_tests_smoothed_per_thousand'].mean(axis=0, skipna=True))\n",
    "df_india['tests_per_case'] = df_india['tests_per_case'].fillna(df_india['tests_per_case'].mean(axis=0, skipna=True))\n",
    "df_india['positive_rate'] = df_india['positive_rate'].fillna(df_india['positive_rate'].mean(axis=0, skipna=True))\n",
    "df_india['tests_units'] = df_india['tests_units'].fillna(\"samples tested\")\n",
    "df_india['stringency_index'] = df_india['stringency_index'].fillna(df_india['stringency_index'].mean(axis=0, skipna=True))"
   ]
  },
  {
   "cell_type": "code",
   "execution_count": 8,
   "metadata": {},
   "outputs": [
    {
     "data": {
      "text/plain": [
       "iso_code                           0\n",
       "continent                          0\n",
       "location                           0\n",
       "date                               0\n",
       "total_cases                        0\n",
       "new_cases                          0\n",
       "total_deaths                       0\n",
       "new_deaths                         0\n",
       "total_cases_per_million            0\n",
       "new_cases_per_million              0\n",
       "total_deaths_per_million           0\n",
       "new_deaths_per_million             0\n",
       "new_tests                          0\n",
       "total_tests                        0\n",
       "total_tests_per_thousand           0\n",
       "new_tests_per_thousand             0\n",
       "new_tests_smoothed                 0\n",
       "new_tests_smoothed_per_thousand    0\n",
       "tests_per_case                     0\n",
       "positive_rate                      0\n",
       "tests_units                        0\n",
       "stringency_index                   0\n",
       "population                         0\n",
       "population_density                 0\n",
       "median_age                         0\n",
       "aged_65_older                      0\n",
       "aged_70_older                      0\n",
       "gdp_per_capita                     0\n",
       "extreme_poverty                    0\n",
       "cardiovasc_death_rate              0\n",
       "diabetes_prevalence                0\n",
       "female_smokers                     0\n",
       "male_smokers                       0\n",
       "handwashing_facilities             0\n",
       "hospital_beds_per_thousand         0\n",
       "life_expectancy                    0\n",
       "dtype: int64"
      ]
     },
     "execution_count": 8,
     "metadata": {},
     "output_type": "execute_result"
    }
   ],
   "source": [
    "# Exploring how many null values are in each column of your dataset\n",
    "\n",
    "df_india.isnull().sum()"
   ]
  },
  {
   "cell_type": "markdown",
   "metadata": {},
   "source": [
    "## 4. Univariate Analysis"
   ]
  },
  {
   "cell_type": "markdown",
   "metadata": {},
   "source": [
    "### a. Histogram"
   ]
  },
  {
   "cell_type": "code",
   "execution_count": 9,
   "metadata": {},
   "outputs": [
    {
     "data": {
      "text/plain": [
       "[]"
      ]
     },
     "execution_count": 9,
     "metadata": {},
     "output_type": "execute_result"
    },
    {
     "data": {
      "image/png": "[encoded data removed]",
      "text/plain": [
       "<Figure size 432x288 with 1 Axes>"
      ]
     },
     "metadata": {
      "needs_background": "light"
     },
     "output_type": "display_data"
    }
   ],
   "source": [
    "df_india.total_cases.hist()\n",
    "plt.title(\"total_cases\")\n",
    "plt.plot()"
   ]
  },
  {
   "cell_type": "code",
   "execution_count": 10,
   "metadata": {},
   "outputs": [
    {
     "data": {
      "text/plain": [
       "[]"
      ]
     },
     "execution_count": 10,
     "metadata": {},
     "output_type": "execute_result"
    },
    {
     "data": {
      "image/png": "[encoded data removed]",
      "text/plain": [
       "<Figure size 432x288 with 1 Axes>"
      ]
     },
     "metadata": {
      "needs_background": "light"
     },
     "output_type": "display_data"
    }
   ],
   "source": [
    "df_india.new_cases.hist()\n",
    "plt.title(\"new_cases\")\n",
    "plt.plot()"
   ]
  },
  {
   "cell_type": "code",
   "execution_count": 11,
   "metadata": {},
   "outputs": [
    {
     "data": {
      "text/plain": [
       "[]"
      ]
     },
     "execution_count": 11,
     "metadata": {},
     "output_type": "execute_result"
    },
    {
     "data": {
      "image/png": "[encoded data removed]",
      "text/plain": [
       "<Figure size 432x288 with 1 Axes>"
      ]
     },
     "metadata": {
      "needs_background": "light"
     },
     "output_type": "display_data"
    }
   ],
   "source": [
    "df_india.total_deaths.hist()\n",
    "plt.title(\"total_deaths\")\n",
    "plt.plot()"
   ]
  },
  {
   "cell_type": "code",
   "execution_count": 12,
   "metadata": {},
   "outputs": [
    {
     "data": {
      "text/plain": [
       "[]"
      ]
     },
     "execution_count": 12,
     "metadata": {},
     "output_type": "execute_result"
    },
    {
     "data": {
      "image/png": "[encoded data removed]",
      "text/plain": [
       "<Figure size 432x288 with 1 Axes>"
      ]
     },
     "metadata": {
      "needs_background": "light"
     },
     "output_type": "display_data"
    }
   ],
   "source": [
    "df_india.new_deaths.hist()\n",
    "plt.title(\"new_deaths\")\n",
    "plt.plot()"
   ]
  },
  {
   "cell_type": "code",
   "execution_count": 13,
   "metadata": {},
   "outputs": [
    {
     "data": {
      "text/plain": [
       "[]"
      ]
     },
     "execution_count": 13,
     "metadata": {},
     "output_type": "execute_result"
    },
    {
     "data": {
      "image/png": "[encoded data removed]",
      "text/plain": [
       "<Figure size 432x288 with 1 Axes>"
      ]
     },
     "metadata": {
      "needs_background": "light"
     },
     "output_type": "display_data"
    }
   ],
   "source": [
    "df_india.new_tests.hist()\n",
    "plt.title(\"new_tests\")\n",
    "plt.plot()"
   ]
  },
  {
   "cell_type": "code",
   "execution_count": 14,
   "metadata": {},
   "outputs": [
    {
     "data": {
      "text/plain": [
       "[]"
      ]
     },
     "execution_count": 14,
     "metadata": {},
     "output_type": "execute_result"
    },
    {
     "data": {
      "image/png": "[encoded data removed]",
      "text/plain": [
       "<Figure size 432x288 with 1 Axes>"
      ]
     },
     "metadata": {
      "needs_background": "light"
     },
     "output_type": "display_data"
    }
   ],
   "source": [
    "df_india.total_tests.hist()\n",
    "plt.title(\"total_tests\")\n",
    "plt.plot()"
   ]
  },
  {
   "cell_type": "code",
   "execution_count": 15,
   "metadata": {},
   "outputs": [
    {
     "data": {
      "text/plain": [
       "[]"
      ]
     },
     "execution_count": 15,
     "metadata": {},
     "output_type": "execute_result"
    },
    {
     "data": {
      "image/png": "[encoded data removed]",
      "text/plain": [
       "<Figure size 432x288 with 1 Axes>"
      ]
     },
     "metadata": {
      "needs_background": "light"
     },
     "output_type": "display_data"
    }
   ],
   "source": [
    "df_india.positive_rate.hist()\n",
    "plt.title(\"positive_rate\")\n",
    "plt.plot()"
   ]
  },
  {
   "cell_type": "code",
   "execution_count": 16,
   "metadata": {},
   "outputs": [
    {
     "data": {
      "text/plain": [
       "[]"
      ]
     },
     "execution_count": 16,
     "metadata": {},
     "output_type": "execute_result"
    },
    {
     "data": {
      "image/png": "[encoded data removed]",
      "text/plain": [
       "<Figure size 432x288 with 1 Axes>"
      ]
     },
     "metadata": {
      "needs_background": "light"
     },
     "output_type": "display_data"
    }
   ],
   "source": [
    "df_india.stringency_index.hist()\n",
    "plt.title(\"stringency_index\")\n",
    "plt.plot()"
   ]
  },
  {
   "cell_type": "code",
   "execution_count": 17,
   "metadata": {},
   "outputs": [
    {
     "data": {
      "text/plain": [
       "[]"
      ]
     },
     "execution_count": 17,
     "metadata": {},
     "output_type": "execute_result"
    },
    {
     "data": {
      "image/png": "[encoded data removed]",
      "text/plain": [
       "<Figure size 432x288 with 1 Axes>"
      ]
     },
     "metadata": {
      "needs_background": "light"
     },
     "output_type": "display_data"
    }
   ],
   "source": [
    "df_india.new_tests_smoothed.hist()\n",
    "plt.title(\"new_tests_smoothed\")\n",
    "plt.plot()"
   ]
  },
  {
   "cell_type": "code",
   "execution_count": 18,
   "metadata": {},
   "outputs": [
    {
     "data": {
      "text/plain": [
       "[]"
      ]
     },
     "execution_count": 18,
     "metadata": {},
     "output_type": "execute_result"
    },
    {
     "data": {
      "image/png": "[encoded data removed]",
      "text/plain": [
       "<Figure size 432x288 with 1 Axes>"
      ]
     },
     "metadata": {
      "needs_background": "light"
     },
     "output_type": "display_data"
    }
   ],
   "source": [
    "df_india.new_tests_smoothed_per_thousand.hist()\n",
    "plt.title(\"new_tests_smoothed_per_thousand\")\n",
    "plt.plot()"
   ]
  },
  {
   "cell_type": "markdown",
   "metadata": {},
   "source": [
    "### b. Mean of each column"
   ]
  },
  {
   "cell_type": "code",
   "execution_count": 19,
   "metadata": {},
   "outputs": [
    {
     "data": {
      "text/plain": [
       "total_cases                        2.666034e+05\n",
       "new_cases                          9.213973e+03\n",
       "total_deaths                       6.769382e+03\n",
       "new_deaths                         1.890227e+02\n",
       "total_cases_per_million            1.931902e+02\n",
       "new_cases_per_million              6.676764e+00\n",
       "total_deaths_per_million           4.905336e+00\n",
       "new_deaths_per_million             1.369636e-01\n",
       "new_tests                          1.742577e+05\n",
       "total_tests                        5.955752e+06\n",
       "total_tests_per_thousand           4.315772e+00\n",
       "new_tests_per_thousand             1.262923e-01\n",
       "new_tests_smoothed                 1.485289e+05\n",
       "new_tests_smoothed_per_thousand    1.076241e-01\n",
       "tests_per_case                     1.819218e+01\n",
       "positive_rate                      6.600709e-02\n",
       "stringency_index                   5.825808e+01\n",
       "population                         1.380004e+09\n",
       "population_density                 4.504190e+02\n",
       "median_age                         2.820000e+01\n",
       "aged_65_older                      5.989000e+00\n",
       "aged_70_older                      3.414000e+00\n",
       "gdp_per_capita                     6.426674e+03\n",
       "extreme_poverty                    2.120000e+01\n",
       "cardiovasc_death_rate              2.822800e+02\n",
       "diabetes_prevalence                1.039000e+01\n",
       "female_smokers                     1.900000e+00\n",
       "male_smokers                       2.060000e+01\n",
       "handwashing_facilities             5.955000e+01\n",
       "hospital_beds_per_thousand         5.300000e-01\n",
       "life_expectancy                    6.966000e+01\n",
       "dtype: float64"
      ]
     },
     "execution_count": 19,
     "metadata": {},
     "output_type": "execute_result"
    }
   ],
   "source": [
    "df_india.mean()"
   ]
  },
  {
   "cell_type": "markdown",
   "metadata": {},
   "source": [
    "### c. Median of each column"
   ]
  },
  {
   "cell_type": "code",
   "execution_count": 20,
   "metadata": {},
   "outputs": [
    {
     "data": {
      "text/plain": [
       "total_cases                        1.648850e+04\n",
       "new_cases                          1.334500e+03\n",
       "total_deaths                       5.250000e+02\n",
       "new_deaths                         3.900000e+01\n",
       "total_cases_per_million            1.194800e+01\n",
       "new_cases_per_million              9.670000e-01\n",
       "total_deaths_per_million           3.800000e-01\n",
       "new_deaths_per_million             2.850000e-02\n",
       "new_tests                          1.742577e+05\n",
       "total_tests                        5.955752e+06\n",
       "total_tests_per_thousand           4.315772e+00\n",
       "new_tests_per_thousand             1.262923e-01\n",
       "new_tests_smoothed                 1.485289e+05\n",
       "new_tests_smoothed_per_thousand    1.076241e-01\n",
       "tests_per_case                     1.819218e+01\n",
       "positive_rate                      6.600709e-02\n",
       "stringency_index                   7.639000e+01\n",
       "population                         1.380004e+09\n",
       "population_density                 4.504190e+02\n",
       "median_age                         2.820000e+01\n",
       "aged_65_older                      5.989000e+00\n",
       "aged_70_older                      3.414000e+00\n",
       "gdp_per_capita                     6.426674e+03\n",
       "extreme_poverty                    2.120000e+01\n",
       "cardiovasc_death_rate              2.822800e+02\n",
       "diabetes_prevalence                1.039000e+01\n",
       "female_smokers                     1.900000e+00\n",
       "male_smokers                       2.060000e+01\n",
       "handwashing_facilities             5.955000e+01\n",
       "hospital_beds_per_thousand         5.300000e-01\n",
       "life_expectancy                    6.966000e+01\n",
       "dtype: float64"
      ]
     },
     "execution_count": 20,
     "metadata": {},
     "output_type": "execute_result"
    }
   ],
   "source": [
    "df_india.median()"
   ]
  },
  {
   "cell_type": "markdown",
   "metadata": {},
   "source": [
    "### d. Mode of each column"
   ]
  },
  {
   "cell_type": "code",
   "execution_count": 21,
   "metadata": {},
   "outputs": [
    {
     "data": {
      "text/html": [
       "<div>\n",
       "<style scoped>\n",
       "    .dataframe tbody tr th:only-of-type {\n",
       "        vertical-align: middle;\n",
       "    }\n",
       "\n",
       "    .dataframe tbody tr th {\n",
       "        vertical-align: top;\n",
       "    }\n",
       "\n",
       "    .dataframe thead th {\n",
       "        text-align: right;\n",
       "    }\n",
       "</style>\n",
       "<table border=\"1\" class=\"dataframe\">\n",
       "  <thead>\n",
       "    <tr style=\"text-align: right;\">\n",
       "      <th></th>\n",
       "      <th>iso_code</th>\n",
       "      <th>continent</th>\n",
       "      <th>location</th>\n",
       "      <th>date</th>\n",
       "      <th>total_cases</th>\n",
       "      <th>new_cases</th>\n",
       "      <th>total_deaths</th>\n",
       "      <th>new_deaths</th>\n",
       "      <th>total_cases_per_million</th>\n",
       "      <th>new_cases_per_million</th>\n",
       "      <th>...</th>\n",
       "      <th>aged_70_older</th>\n",
       "      <th>gdp_per_capita</th>\n",
       "      <th>extreme_poverty</th>\n",
       "      <th>cardiovasc_death_rate</th>\n",
       "      <th>diabetes_prevalence</th>\n",
       "      <th>female_smokers</th>\n",
       "      <th>male_smokers</th>\n",
       "      <th>handwashing_facilities</th>\n",
       "      <th>hospital_beds_per_thousand</th>\n",
       "      <th>life_expectancy</th>\n",
       "    </tr>\n",
       "  </thead>\n",
       "  <tbody>\n",
       "    <tr>\n",
       "      <td>0</td>\n",
       "      <td>IND</td>\n",
       "      <td>Asia</td>\n",
       "      <td>India</td>\n",
       "      <td>2019-12-31</td>\n",
       "      <td>0.0</td>\n",
       "      <td>0.0</td>\n",
       "      <td>0.0</td>\n",
       "      <td>0.0</td>\n",
       "      <td>0.0</td>\n",
       "      <td>0.0</td>\n",
       "      <td>...</td>\n",
       "      <td>3.414</td>\n",
       "      <td>6426.674</td>\n",
       "      <td>21.2</td>\n",
       "      <td>282.28</td>\n",
       "      <td>10.39</td>\n",
       "      <td>1.9</td>\n",
       "      <td>20.6</td>\n",
       "      <td>59.55</td>\n",
       "      <td>0.53</td>\n",
       "      <td>69.66</td>\n",
       "    </tr>\n",
       "    <tr>\n",
       "      <td>1</td>\n",
       "      <td>NaN</td>\n",
       "      <td>NaN</td>\n",
       "      <td>NaN</td>\n",
       "      <td>2020-01-01</td>\n",
       "      <td>NaN</td>\n",
       "      <td>NaN</td>\n",
       "      <td>NaN</td>\n",
       "      <td>NaN</td>\n",
       "      <td>NaN</td>\n",
       "      <td>NaN</td>\n",
       "      <td>...</td>\n",
       "      <td>NaN</td>\n",
       "      <td>NaN</td>\n",
       "      <td>NaN</td>\n",
       "      <td>NaN</td>\n",
       "      <td>NaN</td>\n",
       "      <td>NaN</td>\n",
       "      <td>NaN</td>\n",
       "      <td>NaN</td>\n",
       "      <td>NaN</td>\n",
       "      <td>NaN</td>\n",
       "    </tr>\n",
       "    <tr>\n",
       "      <td>2</td>\n",
       "      <td>NaN</td>\n",
       "      <td>NaN</td>\n",
       "      <td>NaN</td>\n",
       "      <td>2020-01-02</td>\n",
       "      <td>NaN</td>\n",
       "      <td>NaN</td>\n",
       "      <td>NaN</td>\n",
       "      <td>NaN</td>\n",
       "      <td>NaN</td>\n",
       "      <td>NaN</td>\n",
       "      <td>...</td>\n",
       "      <td>NaN</td>\n",
       "      <td>NaN</td>\n",
       "      <td>NaN</td>\n",
       "      <td>NaN</td>\n",
       "      <td>NaN</td>\n",
       "      <td>NaN</td>\n",
       "      <td>NaN</td>\n",
       "      <td>NaN</td>\n",
       "      <td>NaN</td>\n",
       "      <td>NaN</td>\n",
       "    </tr>\n",
       "    <tr>\n",
       "      <td>3</td>\n",
       "      <td>NaN</td>\n",
       "      <td>NaN</td>\n",
       "      <td>NaN</td>\n",
       "      <td>2020-01-03</td>\n",
       "      <td>NaN</td>\n",
       "      <td>NaN</td>\n",
       "      <td>NaN</td>\n",
       "      <td>NaN</td>\n",
       "      <td>NaN</td>\n",
       "      <td>NaN</td>\n",
       "      <td>...</td>\n",
       "      <td>NaN</td>\n",
       "      <td>NaN</td>\n",
       "      <td>NaN</td>\n",
       "      <td>NaN</td>\n",
       "      <td>NaN</td>\n",
       "      <td>NaN</td>\n",
       "      <td>NaN</td>\n",
       "      <td>NaN</td>\n",
       "      <td>NaN</td>\n",
       "      <td>NaN</td>\n",
       "    </tr>\n",
       "    <tr>\n",
       "      <td>4</td>\n",
       "      <td>NaN</td>\n",
       "      <td>NaN</td>\n",
       "      <td>NaN</td>\n",
       "      <td>2020-01-04</td>\n",
       "      <td>NaN</td>\n",
       "      <td>NaN</td>\n",
       "      <td>NaN</td>\n",
       "      <td>NaN</td>\n",
       "      <td>NaN</td>\n",
       "      <td>NaN</td>\n",
       "      <td>...</td>\n",
       "      <td>NaN</td>\n",
       "      <td>NaN</td>\n",
       "      <td>NaN</td>\n",
       "      <td>NaN</td>\n",
       "      <td>NaN</td>\n",
       "      <td>NaN</td>\n",
       "      <td>NaN</td>\n",
       "      <td>NaN</td>\n",
       "      <td>NaN</td>\n",
       "      <td>NaN</td>\n",
       "    </tr>\n",
       "    <tr>\n",
       "      <td>...</td>\n",
       "      <td>...</td>\n",
       "      <td>...</td>\n",
       "      <td>...</td>\n",
       "      <td>...</td>\n",
       "      <td>...</td>\n",
       "      <td>...</td>\n",
       "      <td>...</td>\n",
       "      <td>...</td>\n",
       "      <td>...</td>\n",
       "      <td>...</td>\n",
       "      <td>...</td>\n",
       "      <td>...</td>\n",
       "      <td>...</td>\n",
       "      <td>...</td>\n",
       "      <td>...</td>\n",
       "      <td>...</td>\n",
       "      <td>...</td>\n",
       "      <td>...</td>\n",
       "      <td>...</td>\n",
       "      <td>...</td>\n",
       "      <td>...</td>\n",
       "    </tr>\n",
       "    <tr>\n",
       "      <td>215</td>\n",
       "      <td>NaN</td>\n",
       "      <td>NaN</td>\n",
       "      <td>NaN</td>\n",
       "      <td>2020-08-03</td>\n",
       "      <td>NaN</td>\n",
       "      <td>NaN</td>\n",
       "      <td>NaN</td>\n",
       "      <td>NaN</td>\n",
       "      <td>NaN</td>\n",
       "      <td>NaN</td>\n",
       "      <td>...</td>\n",
       "      <td>NaN</td>\n",
       "      <td>NaN</td>\n",
       "      <td>NaN</td>\n",
       "      <td>NaN</td>\n",
       "      <td>NaN</td>\n",
       "      <td>NaN</td>\n",
       "      <td>NaN</td>\n",
       "      <td>NaN</td>\n",
       "      <td>NaN</td>\n",
       "      <td>NaN</td>\n",
       "    </tr>\n",
       "    <tr>\n",
       "      <td>216</td>\n",
       "      <td>NaN</td>\n",
       "      <td>NaN</td>\n",
       "      <td>NaN</td>\n",
       "      <td>2020-08-04</td>\n",
       "      <td>NaN</td>\n",
       "      <td>NaN</td>\n",
       "      <td>NaN</td>\n",
       "      <td>NaN</td>\n",
       "      <td>NaN</td>\n",
       "      <td>NaN</td>\n",
       "      <td>...</td>\n",
       "      <td>NaN</td>\n",
       "      <td>NaN</td>\n",
       "      <td>NaN</td>\n",
       "      <td>NaN</td>\n",
       "      <td>NaN</td>\n",
       "      <td>NaN</td>\n",
       "      <td>NaN</td>\n",
       "      <td>NaN</td>\n",
       "      <td>NaN</td>\n",
       "      <td>NaN</td>\n",
       "    </tr>\n",
       "    <tr>\n",
       "      <td>217</td>\n",
       "      <td>NaN</td>\n",
       "      <td>NaN</td>\n",
       "      <td>NaN</td>\n",
       "      <td>2020-08-05</td>\n",
       "      <td>NaN</td>\n",
       "      <td>NaN</td>\n",
       "      <td>NaN</td>\n",
       "      <td>NaN</td>\n",
       "      <td>NaN</td>\n",
       "      <td>NaN</td>\n",
       "      <td>...</td>\n",
       "      <td>NaN</td>\n",
       "      <td>NaN</td>\n",
       "      <td>NaN</td>\n",
       "      <td>NaN</td>\n",
       "      <td>NaN</td>\n",
       "      <td>NaN</td>\n",
       "      <td>NaN</td>\n",
       "      <td>NaN</td>\n",
       "      <td>NaN</td>\n",
       "      <td>NaN</td>\n",
       "    </tr>\n",
       "    <tr>\n",
       "      <td>218</td>\n",
       "      <td>NaN</td>\n",
       "      <td>NaN</td>\n",
       "      <td>NaN</td>\n",
       "      <td>2020-08-06</td>\n",
       "      <td>NaN</td>\n",
       "      <td>NaN</td>\n",
       "      <td>NaN</td>\n",
       "      <td>NaN</td>\n",
       "      <td>NaN</td>\n",
       "      <td>NaN</td>\n",
       "      <td>...</td>\n",
       "      <td>NaN</td>\n",
       "      <td>NaN</td>\n",
       "      <td>NaN</td>\n",
       "      <td>NaN</td>\n",
       "      <td>NaN</td>\n",
       "      <td>NaN</td>\n",
       "      <td>NaN</td>\n",
       "      <td>NaN</td>\n",
       "      <td>NaN</td>\n",
       "      <td>NaN</td>\n",
       "    </tr>\n",
       "    <tr>\n",
       "      <td>219</td>\n",
       "      <td>NaN</td>\n",
       "      <td>NaN</td>\n",
       "      <td>NaN</td>\n",
       "      <td>2020-08-07</td>\n",
       "      <td>NaN</td>\n",
       "      <td>NaN</td>\n",
       "      <td>NaN</td>\n",
       "      <td>NaN</td>\n",
       "      <td>NaN</td>\n",
       "      <td>NaN</td>\n",
       "      <td>...</td>\n",
       "      <td>NaN</td>\n",
       "      <td>NaN</td>\n",
       "      <td>NaN</td>\n",
       "      <td>NaN</td>\n",
       "      <td>NaN</td>\n",
       "      <td>NaN</td>\n",
       "      <td>NaN</td>\n",
       "      <td>NaN</td>\n",
       "      <td>NaN</td>\n",
       "      <td>NaN</td>\n",
       "    </tr>\n",
       "  </tbody>\n",
       "</table>\n",
       "<p>220 rows × 36 columns</p>\n",
       "</div>"
      ],
      "text/plain": [
       "    iso_code continent location        date  total_cases  new_cases  \\\n",
       "0        IND      Asia    India  2019-12-31          0.0        0.0   \n",
       "1        NaN       NaN      NaN  2020-01-01          NaN        NaN   \n",
       "2        NaN       NaN      NaN  2020-01-02          NaN        NaN   \n",
       "3        NaN       NaN      NaN  2020-01-03          NaN        NaN   \n",
       "4        NaN       NaN      NaN  2020-01-04          NaN        NaN   \n",
       "..       ...       ...      ...         ...          ...        ...   \n",
       "215      NaN       NaN      NaN  2020-08-03          NaN        NaN   \n",
       "216      NaN       NaN      NaN  2020-08-04          NaN        NaN   \n",
       "217      NaN       NaN      NaN  2020-08-05          NaN        NaN   \n",
       "218      NaN       NaN      NaN  2020-08-06          NaN        NaN   \n",
       "219      NaN       NaN      NaN  2020-08-07          NaN        NaN   \n",
       "\n",
       "     total_deaths  new_deaths  total_cases_per_million  new_cases_per_million  \\\n",
       "0             0.0         0.0                      0.0                    0.0   \n",
       "1             NaN         NaN                      NaN                    NaN   \n",
       "2             NaN         NaN                      NaN                    NaN   \n",
       "3             NaN         NaN                      NaN                    NaN   \n",
       "4             NaN         NaN                      NaN                    NaN   \n",
       "..            ...         ...                      ...                    ...   \n",
       "215           NaN         NaN                      NaN                    NaN   \n",
       "216           NaN         NaN                      NaN                    NaN   \n",
       "217           NaN         NaN                      NaN                    NaN   \n",
       "218           NaN         NaN                      NaN                    NaN   \n",
       "219           NaN         NaN                      NaN                    NaN   \n",
       "\n",
       "     ...  aged_70_older  gdp_per_capita  extreme_poverty  \\\n",
       "0    ...          3.414        6426.674             21.2   \n",
       "1    ...            NaN             NaN              NaN   \n",
       "2    ...            NaN             NaN              NaN   \n",
       "3    ...            NaN             NaN              NaN   \n",
       "4    ...            NaN             NaN              NaN   \n",
       "..   ...            ...             ...              ...   \n",
       "215  ...            NaN             NaN              NaN   \n",
       "216  ...            NaN             NaN              NaN   \n",
       "217  ...            NaN             NaN              NaN   \n",
       "218  ...            NaN             NaN              NaN   \n",
       "219  ...            NaN             NaN              NaN   \n",
       "\n",
       "     cardiovasc_death_rate  diabetes_prevalence  female_smokers  male_smokers  \\\n",
       "0                   282.28                10.39             1.9          20.6   \n",
       "1                      NaN                  NaN             NaN           NaN   \n",
       "2                      NaN                  NaN             NaN           NaN   \n",
       "3                      NaN                  NaN             NaN           NaN   \n",
       "4                      NaN                  NaN             NaN           NaN   \n",
       "..                     ...                  ...             ...           ...   \n",
       "215                    NaN                  NaN             NaN           NaN   \n",
       "216                    NaN                  NaN             NaN           NaN   \n",
       "217                    NaN                  NaN             NaN           NaN   \n",
       "218                    NaN                  NaN             NaN           NaN   \n",
       "219                    NaN                  NaN             NaN           NaN   \n",
       "\n",
       "     handwashing_facilities  hospital_beds_per_thousand  life_expectancy  \n",
       "0                     59.55                        0.53            69.66  \n",
       "1                       NaN                         NaN              NaN  \n",
       "2                       NaN                         NaN              NaN  \n",
       "3                       NaN                         NaN              NaN  \n",
       "4                       NaN                         NaN              NaN  \n",
       "..                      ...                         ...              ...  \n",
       "215                     NaN                         NaN              NaN  \n",
       "216                     NaN                         NaN              NaN  \n",
       "217                     NaN                         NaN              NaN  \n",
       "218                     NaN                         NaN              NaN  \n",
       "219                     NaN                         NaN              NaN  \n",
       "\n",
       "[220 rows x 36 columns]"
      ]
     },
     "execution_count": 21,
     "metadata": {},
     "output_type": "execute_result"
    }
   ],
   "source": [
    "df_india.mode()"
   ]
  },
  {
   "cell_type": "markdown",
   "metadata": {},
   "source": [
    "## 5. Bivariate Analysis"
   ]
  },
  {
   "cell_type": "markdown",
   "metadata": {},
   "source": [
    "### a. Scatter-plot of \"total_cases\" vs 10 features"
   ]
  },
  {
   "cell_type": "code",
   "execution_count": 22,
   "metadata": {},
   "outputs": [
    {
     "data": {
      "text/plain": [
       "Text(0, 0.5, 'new_cases')"
      ]
     },
     "execution_count": 22,
     "metadata": {},
     "output_type": "execute_result"
    },
    {
     "data": {
      "image/png": "[encoded data removed]",
      "text/plain": [
       "<Figure size 432x288 with 1 Axes>"
      ]
     },
     "metadata": {
      "needs_background": "light"
     },
     "output_type": "display_data"
    }
   ],
   "source": [
    "df.plot.scatter(x=\"total_cases\",y=\"new_cases\")\n",
    "plt.title(\"total_cases V/S new_cases\")\n",
    "plt.xlabel(\"total_cases\")\n",
    "plt.ylabel(\"new_cases\")"
   ]
  },
  {
   "cell_type": "code",
   "execution_count": 23,
   "metadata": {},
   "outputs": [
    {
     "data": {
      "text/plain": [
       "Text(0, 0.5, 'total_deaths')"
      ]
     },
     "execution_count": 23,
     "metadata": {},
     "output_type": "execute_result"
    },
    {
     "data": {
      "image/png": "[encoded data removed]",
      "text/plain": [
       "<Figure size 432x288 with 1 Axes>"
      ]
     },
     "metadata": {
      "needs_background": "light"
     },
     "output_type": "display_data"
    }
   ],
   "source": [
    "df.plot.scatter(x=\"total_cases\",y=\"total_deaths\")\n",
    "plt.title(\"total_cases V/S total_deaths\")\n",
    "plt.xlabel(\"total_cases\")\n",
    "plt.ylabel(\"total_deaths\")"
   ]
  },
  {
   "cell_type": "code",
   "execution_count": 24,
   "metadata": {},
   "outputs": [
    {
     "data": {
      "text/plain": [
       "Text(0, 0.5, 'new_deaths')"
      ]
     },
     "execution_count": 24,
     "metadata": {},
     "output_type": "execute_result"
    },
    {
     "data": {
      "image/png": "[encoded data removed]",
      "text/plain": [
       "<Figure size 432x288 with 1 Axes>"
      ]
     },
     "metadata": {
      "needs_background": "light"
     },
     "output_type": "display_data"
    }
   ],
   "source": [
    "df.plot.scatter(x=\"total_cases\",y=\"new_deaths\")\n",
    "plt.title(\"total_cases V/S new_deaths\")\n",
    "plt.xlabel(\"total_cases\")\n",
    "plt.ylabel(\"new_deaths\")"
   ]
  },
  {
   "cell_type": "code",
   "execution_count": 25,
   "metadata": {},
   "outputs": [
    {
     "data": {
      "text/plain": [
       "Text(0, 0.5, 'new_tests')"
      ]
     },
     "execution_count": 25,
     "metadata": {},
     "output_type": "execute_result"
    },
    {
     "data": {
      "image/png": "[encoded data removed]",
      "text/plain": [
       "<Figure size 432x288 with 1 Axes>"
      ]
     },
     "metadata": {
      "needs_background": "light"
     },
     "output_type": "display_data"
    }
   ],
   "source": [
    "df.plot.scatter(x=\"total_cases\",y=\"new_tests\")\n",
    "plt.title(\"total_cases V/S new_tests\")\n",
    "plt.xlabel(\"total_cases\")\n",
    "plt.ylabel(\"new_tests\")"
   ]
  },
  {
   "cell_type": "code",
   "execution_count": 26,
   "metadata": {},
   "outputs": [
    {
     "data": {
      "text/plain": [
       "Text(0, 0.5, 'total_tests')"
      ]
     },
     "execution_count": 26,
     "metadata": {},
     "output_type": "execute_result"
    },
    {
     "data": {
      "image/png": "[encoded data removed]",
      "text/plain": [
       "<Figure size 432x288 with 1 Axes>"
      ]
     },
     "metadata": {
      "needs_background": "light"
     },
     "output_type": "display_data"
    }
   ],
   "source": [
    "df.plot.scatter(x=\"total_cases\",y=\"total_tests\")\n",
    "plt.title(\"total_cases V/S total_tests\")\n",
    "plt.xlabel(\"total_cases\")\n",
    "plt.ylabel(\"total_tests\")"
   ]
  },
  {
   "cell_type": "code",
   "execution_count": 27,
   "metadata": {},
   "outputs": [
    {
     "data": {
      "text/plain": [
       "Text(0, 0.5, 'new_tests_smoothed')"
      ]
     },
     "execution_count": 27,
     "metadata": {},
     "output_type": "execute_result"
    },
    {
     "data": {
      "image/png": "[encoded data removed]",
      "text/plain": [
       "<Figure size 432x288 with 1 Axes>"
      ]
     },
     "metadata": {
      "needs_background": "light"
     },
     "output_type": "display_data"
    }
   ],
   "source": [
    "df.plot.scatter(x=\"total_cases\",y=\"new_tests_smoothed\")\n",
    "plt.title(\"total_cases V/S new_tests_smoothed\")\n",
    "plt.xlabel(\"total_cases\")\n",
    "plt.ylabel(\"new_tests_smoothed\")"
   ]
  },
  {
   "cell_type": "code",
   "execution_count": 28,
   "metadata": {},
   "outputs": [
    {
     "data": {
      "text/plain": [
       "Text(0, 0.5, 'tests_per_case')"
      ]
     },
     "execution_count": 28,
     "metadata": {},
     "output_type": "execute_result"
    },
    {
     "data": {
      "image/png": "[encoded data removed]",
      "text/plain": [
       "<Figure size 432x288 with 1 Axes>"
      ]
     },
     "metadata": {
      "needs_background": "light"
     },
     "output_type": "display_data"
    }
   ],
   "source": [
    "df.plot.scatter(x=\"total_cases\",y=\"tests_per_case\")\n",
    "plt.title(\"total_cases V/S tests_per_case\")\n",
    "plt.xlabel(\"total_cases\")\n",
    "plt.ylabel(\"tests_per_case\")"
   ]
  },
  {
   "cell_type": "code",
   "execution_count": 29,
   "metadata": {},
   "outputs": [
    {
     "data": {
      "text/plain": [
       "Text(0, 0.5, 'positive_rate')"
      ]
     },
     "execution_count": 29,
     "metadata": {},
     "output_type": "execute_result"
    },
    {
     "data": {
      "image/png": "[encoded data removed]",
      "text/plain": [
       "<Figure size 432x288 with 1 Axes>"
      ]
     },
     "metadata": {
      "needs_background": "light"
     },
     "output_type": "display_data"
    }
   ],
   "source": [
    "df.plot.scatter(x=\"total_cases\",y=\"positive_rate\")\n",
    "plt.title(\"total_cases V/S positive_rate\")\n",
    "plt.xlabel(\"total_cases\")\n",
    "plt.ylabel(\"positive_rate\")"
   ]
  },
  {
   "cell_type": "code",
   "execution_count": 30,
   "metadata": {},
   "outputs": [
    {
     "data": {
      "text/plain": [
       "Text(0, 0.5, 'stringency_index')"
      ]
     },
     "execution_count": 30,
     "metadata": {},
     "output_type": "execute_result"
    },
    {
     "data": {
      "image/png": "[encoded data removed]",
      "text/plain": [
       "<Figure size 432x288 with 1 Axes>"
      ]
     },
     "metadata": {
      "needs_background": "light"
     },
     "output_type": "display_data"
    }
   ],
   "source": [
    "df.plot.scatter(x=\"total_cases\",y=\"stringency_index\")\n",
    "plt.title(\"total_cases V/S stringency_index\")\n",
    "plt.xlabel(\"total_cases\")\n",
    "plt.ylabel(\"stringency_index\")"
   ]
  },
  {
   "cell_type": "code",
   "execution_count": 31,
   "metadata": {},
   "outputs": [
    {
     "data": {
      "text/plain": [
       "Text(0, 0.5, 'life_expectancy')"
      ]
     },
     "execution_count": 31,
     "metadata": {},
     "output_type": "execute_result"
    },
    {
     "data": {
      "image/png": "[encoded data removed]",
      "text/plain": [
       "<Figure size 432x288 with 1 Axes>"
      ]
     },
     "metadata": {
      "needs_background": "light"
     },
     "output_type": "display_data"
    }
   ],
   "source": [
    "df.plot.scatter(x=\"total_cases\",y=\"life_expectancy\")\n",
    "plt.title(\"total_cases V/S life_expectancy\")\n",
    "plt.xlabel(\"total_cases\")\n",
    "plt.ylabel(\"life_expectancy\")"
   ]
  },
  {
   "cell_type": "markdown",
   "metadata": {},
   "source": [
    "### b. Line-plot of \"total_cases\" vs 10 features"
   ]
  },
  {
   "cell_type": "code",
   "execution_count": 32,
   "metadata": {},
   "outputs": [
    {
     "data": {
      "text/plain": [
       "Text(0, 0.5, 'new_cases')"
      ]
     },
     "execution_count": 32,
     "metadata": {},
     "output_type": "execute_result"
    },
    {
     "data": {
      "image/png": "[encoded data removed]",
      "text/plain": [
       "<Figure size 432x288 with 1 Axes>"
      ]
     },
     "metadata": {
      "needs_background": "light"
     },
     "output_type": "display_data"
    }
   ],
   "source": [
    "df.plot.line(x=\"total_cases\",y=\"new_cases\")\n",
    "plt.title(\"total_cases V/S new_cases\")\n",
    "plt.xlabel(\"total_cases\")\n",
    "plt.ylabel(\"new_cases\")"
   ]
  },
  {
   "cell_type": "code",
   "execution_count": 33,
   "metadata": {},
   "outputs": [
    {
     "data": {
      "text/plain": [
       "Text(0, 0.5, 'total_deaths')"
      ]
     },
     "execution_count": 33,
     "metadata": {},
     "output_type": "execute_result"
    },
    {
     "data": {
      "image/png": "[encoded data removed]",
      "text/plain": [
       "<Figure size 432x288 with 1 Axes>"
      ]
     },
     "metadata": {
      "needs_background": "light"
     },
     "output_type": "display_data"
    }
   ],
   "source": [
    "df.plot.line(x=\"total_cases\",y=\"total_deaths\")\n",
    "plt.title(\"total_cases V/S total_deaths\")\n",
    "plt.xlabel(\"total_cases\")\n",
    "plt.ylabel(\"total_deaths\")"
   ]
  },
  {
   "cell_type": "code",
   "execution_count": 34,
   "metadata": {},
   "outputs": [
    {
     "data": {
      "text/plain": [
       "Text(0, 0.5, 'new_deaths')"
      ]
     },
     "execution_count": 34,
     "metadata": {},
     "output_type": "execute_result"
    },
    {
     "data": {
      "image/png": "[encoded data removed]",
      "text/plain": [
       "<Figure size 432x288 with 1 Axes>"
      ]
     },
     "metadata": {
      "needs_background": "light"
     },
     "output_type": "display_data"
    }
   ],
   "source": [
    "df.plot.line(x=\"total_cases\",y=\"new_deaths\")\n",
    "plt.title(\"total_cases V/S new_deaths\")\n",
    "plt.xlabel(\"total_cases\")\n",
    "plt.ylabel(\"new_deaths\")"
   ]
  },
  {
   "cell_type": "code",
   "execution_count": 35,
   "metadata": {},
   "outputs": [
    {
     "data": {
      "text/plain": [
       "Text(0, 0.5, 'new_tests')"
      ]
     },
     "execution_count": 35,
     "metadata": {},
     "output_type": "execute_result"
    },
    {
     "data": {
      "image/png": "[encoded data removed]",
      "text/plain": [
       "<Figure size 432x288 with 1 Axes>"
      ]
     },
     "metadata": {
      "needs_background": "light"
     },
     "output_type": "display_data"
    }
   ],
   "source": [
    "df.plot.line(x=\"total_cases\",y=\"new_tests\")\n",
    "plt.title(\"total_cases V/S new_tests\")\n",
    "plt.xlabel(\"total_cases\")\n",
    "plt.ylabel(\"new_tests\")"
   ]
  },
  {
   "cell_type": "code",
   "execution_count": 36,
   "metadata": {},
   "outputs": [
    {
     "data": {
      "text/plain": [
       "Text(0, 0.5, 'total_tests')"
      ]
     },
     "execution_count": 36,
     "metadata": {},
     "output_type": "execute_result"
    },
    {
     "data": {
      "image/png": "[encoded data removed]",
      "text/plain": [
       "<Figure size 432x288 with 1 Axes>"
      ]
     },
     "metadata": {
      "needs_background": "light"
     },
     "output_type": "display_data"
    }
   ],
   "source": [
    "df.plot.line(x=\"total_cases\",y=\"total_tests\")\n",
    "plt.title(\"total_cases V/S total_tests\")\n",
    "plt.xlabel(\"total_cases\")\n",
    "plt.ylabel(\"total_tests\")"
   ]
  },
  {
   "cell_type": "code",
   "execution_count": 37,
   "metadata": {},
   "outputs": [
    {
     "data": {
      "text/plain": [
       "Text(0, 0.5, 'new_tests_smoothed')"
      ]
     },
     "execution_count": 37,
     "metadata": {},
     "output_type": "execute_result"
    },
    {
     "data": {
      "image/png": "[encoded data removed]",
      "text/plain": [
       "<Figure size 432x288 with 1 Axes>"
      ]
     },
     "metadata": {
      "needs_background": "light"
     },
     "output_type": "display_data"
    }
   ],
   "source": [
    "df.plot.line(x=\"total_cases\",y=\"new_tests_smoothed\")\n",
    "plt.title(\"total_cases V/S new_tests_smoothed\")\n",
    "plt.xlabel(\"total_cases\")\n",
    "plt.ylabel(\"new_tests_smoothed\")"
   ]
  },
  {
   "cell_type": "code",
   "execution_count": 38,
   "metadata": {},
   "outputs": [
    {
     "data": {
      "text/plain": [
       "Text(0, 0.5, 'tests_per_case')"
      ]
     },
     "execution_count": 38,
     "metadata": {},
     "output_type": "execute_result"
    },
    {
     "data": {
      "image/png": "[encoded data removed]",
      "text/plain": [
       "<Figure size 432x288 with 1 Axes>"
      ]
     },
     "metadata": {
      "needs_background": "light"
     },
     "output_type": "display_data"
    }
   ],
   "source": [
    "df.plot.line(x=\"total_cases\",y=\"tests_per_case\")\n",
    "plt.title(\"total_cases V/S tests_per_case\")\n",
    "plt.xlabel(\"total_cases\")\n",
    "plt.ylabel(\"tests_per_case\")"
   ]
  },
  {
   "cell_type": "code",
   "execution_count": 39,
   "metadata": {},
   "outputs": [
    {
     "data": {
      "text/plain": [
       "Text(0, 0.5, 'positive_rate')"
      ]
     },
     "execution_count": 39,
     "metadata": {},
     "output_type": "execute_result"
    },
    {
     "data": {
      "image/png": "[encoded data removed]",
      "text/plain": [
       "<Figure size 432x288 with 1 Axes>"
      ]
     },
     "metadata": {
      "needs_background": "light"
     },
     "output_type": "display_data"
    }
   ],
   "source": [
    "df.plot.line(x=\"total_cases\",y=\"positive_rate\")\n",
    "plt.title(\"total_cases V/S positive_rate\")\n",
    "plt.xlabel(\"total_cases\")\n",
    "plt.ylabel(\"positive_rate\")"
   ]
  },
  {
   "cell_type": "code",
   "execution_count": 40,
   "metadata": {},
   "outputs": [
    {
     "data": {
      "text/plain": [
       "Text(0, 0.5, 'stringency_index')"
      ]
     },
     "execution_count": 40,
     "metadata": {},
     "output_type": "execute_result"
    },
    {
     "data": {
      "image/png": "[encoded data removed]",
      "text/plain": [
       "<Figure size 432x288 with 1 Axes>"
      ]
     },
     "metadata": {
      "needs_background": "light"
     },
     "output_type": "display_data"
    }
   ],
   "source": [
    "df.plot.line(x=\"total_cases\",y=\"stringency_index\")\n",
    "plt.title(\"total_cases V/S stringency_index\")\n",
    "plt.xlabel(\"total_cases\")\n",
    "plt.ylabel(\"stringency_index\")"
   ]
  },
  {
   "cell_type": "code",
   "execution_count": 41,
   "metadata": {},
   "outputs": [
    {
     "data": {
      "text/plain": [
       "Text(0, 0.5, 'life_expectancy')"
      ]
     },
     "execution_count": 41,
     "metadata": {},
     "output_type": "execute_result"
    },
    {
     "data": {
      "image/png": "[encoded data removed]",
      "text/plain": [
       "<Figure size 432x288 with 1 Axes>"
      ]
     },
     "metadata": {
      "needs_background": "light"
     },
     "output_type": "display_data"
    }
   ],
   "source": [
    "df.plot.line(x=\"total_cases\",y=\"life_expectancy\")\n",
    "plt.title(\"total_cases V/S life_expectancy\")\n",
    "plt.xlabel(\"total_cases\")\n",
    "plt.ylabel(\"life_expectancy\")"
   ]
  },
  {
   "cell_type": "markdown",
   "metadata": {},
   "source": [
    "## 6. Converting date column to ordinal"
   ]
  },
  {
   "cell_type": "code",
   "execution_count": 42,
   "metadata": {},
   "outputs": [
    {
     "name": "stderr",
     "output_type": "stream",
     "text": [
      "D:\\Utilities\\Anaconda\\lib\\site-packages\\ipykernel_launcher.py:1: SettingWithCopyWarning: \n",
      "A value is trying to be set on a copy of a slice from a DataFrame.\n",
      "Try using .loc[row_indexer,col_indexer] = value instead\n",
      "\n",
      "See the caveats in the documentation: http://pandas.pydata.org/pandas-docs/stable/user_guide/indexing.html#returning-a-view-versus-a-copy\n",
      "  \"\"\"Entry point for launching an IPython kernel.\n",
      "D:\\Utilities\\Anaconda\\lib\\site-packages\\ipykernel_launcher.py:2: SettingWithCopyWarning: \n",
      "A value is trying to be set on a copy of a slice from a DataFrame.\n",
      "Try using .loc[row_indexer,col_indexer] = value instead\n",
      "\n",
      "See the caveats in the documentation: http://pandas.pydata.org/pandas-docs/stable/user_guide/indexing.html#returning-a-view-versus-a-copy\n",
      "  \n"
     ]
    }
   ],
   "source": [
    "df_india['date'] = pd.to_datetime(df_india['date'])\n",
    "df_india['date'] = df_india['date'].map(dt.datetime.toordinal)"
   ]
  },
  {
   "cell_type": "markdown",
   "metadata": {},
   "source": [
    "## 7.a. Droping useless Columns = ['iso_code', 'continent', 'location']"
   ]
  },
  {
   "cell_type": "code",
   "execution_count": 43,
   "metadata": {},
   "outputs": [],
   "source": [
    "df_india = df_india.drop(columns= ['iso_code', 'continent', 'location'])"
   ]
  },
  {
   "cell_type": "code",
   "execution_count": 44,
   "metadata": {},
   "outputs": [
    {
     "data": {
      "text/html": [
       "<div>\n",
       "<style scoped>\n",
       "    .dataframe tbody tr th:only-of-type {\n",
       "        vertical-align: middle;\n",
       "    }\n",
       "\n",
       "    .dataframe tbody tr th {\n",
       "        vertical-align: top;\n",
       "    }\n",
       "\n",
       "    .dataframe thead th {\n",
       "        text-align: right;\n",
       "    }\n",
       "</style>\n",
       "<table border=\"1\" class=\"dataframe\">\n",
       "  <thead>\n",
       "    <tr style=\"text-align: right;\">\n",
       "      <th></th>\n",
       "      <th>date</th>\n",
       "      <th>total_cases</th>\n",
       "      <th>new_cases</th>\n",
       "      <th>total_deaths</th>\n",
       "      <th>new_deaths</th>\n",
       "      <th>total_cases_per_million</th>\n",
       "      <th>new_cases_per_million</th>\n",
       "      <th>total_deaths_per_million</th>\n",
       "      <th>new_deaths_per_million</th>\n",
       "      <th>new_tests</th>\n",
       "      <th>...</th>\n",
       "      <th>aged_70_older</th>\n",
       "      <th>gdp_per_capita</th>\n",
       "      <th>extreme_poverty</th>\n",
       "      <th>cardiovasc_death_rate</th>\n",
       "      <th>diabetes_prevalence</th>\n",
       "      <th>female_smokers</th>\n",
       "      <th>male_smokers</th>\n",
       "      <th>handwashing_facilities</th>\n",
       "      <th>hospital_beds_per_thousand</th>\n",
       "      <th>life_expectancy</th>\n",
       "    </tr>\n",
       "  </thead>\n",
       "  <tbody>\n",
       "    <tr>\n",
       "      <td>15127</td>\n",
       "      <td>737424</td>\n",
       "      <td>0.0</td>\n",
       "      <td>0.0</td>\n",
       "      <td>0.0</td>\n",
       "      <td>0.0</td>\n",
       "      <td>0.000</td>\n",
       "      <td>0.000</td>\n",
       "      <td>0.000</td>\n",
       "      <td>0.000</td>\n",
       "      <td>174257.730769</td>\n",
       "      <td>...</td>\n",
       "      <td>3.414</td>\n",
       "      <td>6426.674</td>\n",
       "      <td>21.2</td>\n",
       "      <td>282.28</td>\n",
       "      <td>10.39</td>\n",
       "      <td>1.9</td>\n",
       "      <td>20.6</td>\n",
       "      <td>59.55</td>\n",
       "      <td>0.53</td>\n",
       "      <td>69.66</td>\n",
       "    </tr>\n",
       "    <tr>\n",
       "      <td>15128</td>\n",
       "      <td>737425</td>\n",
       "      <td>0.0</td>\n",
       "      <td>0.0</td>\n",
       "      <td>0.0</td>\n",
       "      <td>0.0</td>\n",
       "      <td>0.000</td>\n",
       "      <td>0.000</td>\n",
       "      <td>0.000</td>\n",
       "      <td>0.000</td>\n",
       "      <td>174257.730769</td>\n",
       "      <td>...</td>\n",
       "      <td>3.414</td>\n",
       "      <td>6426.674</td>\n",
       "      <td>21.2</td>\n",
       "      <td>282.28</td>\n",
       "      <td>10.39</td>\n",
       "      <td>1.9</td>\n",
       "      <td>20.6</td>\n",
       "      <td>59.55</td>\n",
       "      <td>0.53</td>\n",
       "      <td>69.66</td>\n",
       "    </tr>\n",
       "    <tr>\n",
       "      <td>15129</td>\n",
       "      <td>737426</td>\n",
       "      <td>0.0</td>\n",
       "      <td>0.0</td>\n",
       "      <td>0.0</td>\n",
       "      <td>0.0</td>\n",
       "      <td>0.000</td>\n",
       "      <td>0.000</td>\n",
       "      <td>0.000</td>\n",
       "      <td>0.000</td>\n",
       "      <td>174257.730769</td>\n",
       "      <td>...</td>\n",
       "      <td>3.414</td>\n",
       "      <td>6426.674</td>\n",
       "      <td>21.2</td>\n",
       "      <td>282.28</td>\n",
       "      <td>10.39</td>\n",
       "      <td>1.9</td>\n",
       "      <td>20.6</td>\n",
       "      <td>59.55</td>\n",
       "      <td>0.53</td>\n",
       "      <td>69.66</td>\n",
       "    </tr>\n",
       "    <tr>\n",
       "      <td>15130</td>\n",
       "      <td>737427</td>\n",
       "      <td>0.0</td>\n",
       "      <td>0.0</td>\n",
       "      <td>0.0</td>\n",
       "      <td>0.0</td>\n",
       "      <td>0.000</td>\n",
       "      <td>0.000</td>\n",
       "      <td>0.000</td>\n",
       "      <td>0.000</td>\n",
       "      <td>174257.730769</td>\n",
       "      <td>...</td>\n",
       "      <td>3.414</td>\n",
       "      <td>6426.674</td>\n",
       "      <td>21.2</td>\n",
       "      <td>282.28</td>\n",
       "      <td>10.39</td>\n",
       "      <td>1.9</td>\n",
       "      <td>20.6</td>\n",
       "      <td>59.55</td>\n",
       "      <td>0.53</td>\n",
       "      <td>69.66</td>\n",
       "    </tr>\n",
       "    <tr>\n",
       "      <td>15131</td>\n",
       "      <td>737428</td>\n",
       "      <td>0.0</td>\n",
       "      <td>0.0</td>\n",
       "      <td>0.0</td>\n",
       "      <td>0.0</td>\n",
       "      <td>0.000</td>\n",
       "      <td>0.000</td>\n",
       "      <td>0.000</td>\n",
       "      <td>0.000</td>\n",
       "      <td>174257.730769</td>\n",
       "      <td>...</td>\n",
       "      <td>3.414</td>\n",
       "      <td>6426.674</td>\n",
       "      <td>21.2</td>\n",
       "      <td>282.28</td>\n",
       "      <td>10.39</td>\n",
       "      <td>1.9</td>\n",
       "      <td>20.6</td>\n",
       "      <td>59.55</td>\n",
       "      <td>0.53</td>\n",
       "      <td>69.66</td>\n",
       "    </tr>\n",
       "    <tr>\n",
       "      <td>...</td>\n",
       "      <td>...</td>\n",
       "      <td>...</td>\n",
       "      <td>...</td>\n",
       "      <td>...</td>\n",
       "      <td>...</td>\n",
       "      <td>...</td>\n",
       "      <td>...</td>\n",
       "      <td>...</td>\n",
       "      <td>...</td>\n",
       "      <td>...</td>\n",
       "      <td>...</td>\n",
       "      <td>...</td>\n",
       "      <td>...</td>\n",
       "      <td>...</td>\n",
       "      <td>...</td>\n",
       "      <td>...</td>\n",
       "      <td>...</td>\n",
       "      <td>...</td>\n",
       "      <td>...</td>\n",
       "      <td>...</td>\n",
       "      <td>...</td>\n",
       "    </tr>\n",
       "    <tr>\n",
       "      <td>15342</td>\n",
       "      <td>737640</td>\n",
       "      <td>1803695.0</td>\n",
       "      <td>52972.0</td>\n",
       "      <td>38135.0</td>\n",
       "      <td>771.0</td>\n",
       "      <td>1307.021</td>\n",
       "      <td>38.385</td>\n",
       "      <td>27.634</td>\n",
       "      <td>0.559</td>\n",
       "      <td>381027.000000</td>\n",
       "      <td>...</td>\n",
       "      <td>3.414</td>\n",
       "      <td>6426.674</td>\n",
       "      <td>21.2</td>\n",
       "      <td>282.28</td>\n",
       "      <td>10.39</td>\n",
       "      <td>1.9</td>\n",
       "      <td>20.6</td>\n",
       "      <td>59.55</td>\n",
       "      <td>0.53</td>\n",
       "      <td>69.66</td>\n",
       "    </tr>\n",
       "    <tr>\n",
       "      <td>15343</td>\n",
       "      <td>737641</td>\n",
       "      <td>1855745.0</td>\n",
       "      <td>52050.0</td>\n",
       "      <td>38938.0</td>\n",
       "      <td>803.0</td>\n",
       "      <td>1344.738</td>\n",
       "      <td>37.717</td>\n",
       "      <td>28.216</td>\n",
       "      <td>0.582</td>\n",
       "      <td>661892.000000</td>\n",
       "      <td>...</td>\n",
       "      <td>3.414</td>\n",
       "      <td>6426.674</td>\n",
       "      <td>21.2</td>\n",
       "      <td>282.28</td>\n",
       "      <td>10.39</td>\n",
       "      <td>1.9</td>\n",
       "      <td>20.6</td>\n",
       "      <td>59.55</td>\n",
       "      <td>0.53</td>\n",
       "      <td>69.66</td>\n",
       "    </tr>\n",
       "    <tr>\n",
       "      <td>15344</td>\n",
       "      <td>737642</td>\n",
       "      <td>1908254.0</td>\n",
       "      <td>52509.0</td>\n",
       "      <td>39795.0</td>\n",
       "      <td>857.0</td>\n",
       "      <td>1382.788</td>\n",
       "      <td>38.050</td>\n",
       "      <td>28.837</td>\n",
       "      <td>0.621</td>\n",
       "      <td>619652.000000</td>\n",
       "      <td>...</td>\n",
       "      <td>3.414</td>\n",
       "      <td>6426.674</td>\n",
       "      <td>21.2</td>\n",
       "      <td>282.28</td>\n",
       "      <td>10.39</td>\n",
       "      <td>1.9</td>\n",
       "      <td>20.6</td>\n",
       "      <td>59.55</td>\n",
       "      <td>0.53</td>\n",
       "      <td>69.66</td>\n",
       "    </tr>\n",
       "    <tr>\n",
       "      <td>15345</td>\n",
       "      <td>737643</td>\n",
       "      <td>1964536.0</td>\n",
       "      <td>56282.0</td>\n",
       "      <td>40699.0</td>\n",
       "      <td>904.0</td>\n",
       "      <td>1423.572</td>\n",
       "      <td>40.784</td>\n",
       "      <td>29.492</td>\n",
       "      <td>0.655</td>\n",
       "      <td>664949.000000</td>\n",
       "      <td>...</td>\n",
       "      <td>3.414</td>\n",
       "      <td>6426.674</td>\n",
       "      <td>21.2</td>\n",
       "      <td>282.28</td>\n",
       "      <td>10.39</td>\n",
       "      <td>1.9</td>\n",
       "      <td>20.6</td>\n",
       "      <td>59.55</td>\n",
       "      <td>0.53</td>\n",
       "      <td>69.66</td>\n",
       "    </tr>\n",
       "    <tr>\n",
       "      <td>15346</td>\n",
       "      <td>737644</td>\n",
       "      <td>2027074.0</td>\n",
       "      <td>62538.0</td>\n",
       "      <td>41585.0</td>\n",
       "      <td>886.0</td>\n",
       "      <td>1468.890</td>\n",
       "      <td>45.317</td>\n",
       "      <td>30.134</td>\n",
       "      <td>0.642</td>\n",
       "      <td>639042.000000</td>\n",
       "      <td>...</td>\n",
       "      <td>3.414</td>\n",
       "      <td>6426.674</td>\n",
       "      <td>21.2</td>\n",
       "      <td>282.28</td>\n",
       "      <td>10.39</td>\n",
       "      <td>1.9</td>\n",
       "      <td>20.6</td>\n",
       "      <td>59.55</td>\n",
       "      <td>0.53</td>\n",
       "      <td>69.66</td>\n",
       "    </tr>\n",
       "  </tbody>\n",
       "</table>\n",
       "<p>220 rows × 33 columns</p>\n",
       "</div>"
      ],
      "text/plain": [
       "         date  total_cases  new_cases  total_deaths  new_deaths  \\\n",
       "15127  737424          0.0        0.0           0.0         0.0   \n",
       "15128  737425          0.0        0.0           0.0         0.0   \n",
       "15129  737426          0.0        0.0           0.0         0.0   \n",
       "15130  737427          0.0        0.0           0.0         0.0   \n",
       "15131  737428          0.0        0.0           0.0         0.0   \n",
       "...       ...          ...        ...           ...         ...   \n",
       "15342  737640    1803695.0    52972.0       38135.0       771.0   \n",
       "15343  737641    1855745.0    52050.0       38938.0       803.0   \n",
       "15344  737642    1908254.0    52509.0       39795.0       857.0   \n",
       "15345  737643    1964536.0    56282.0       40699.0       904.0   \n",
       "15346  737644    2027074.0    62538.0       41585.0       886.0   \n",
       "\n",
       "       total_cases_per_million  new_cases_per_million  \\\n",
       "15127                    0.000                  0.000   \n",
       "15128                    0.000                  0.000   \n",
       "15129                    0.000                  0.000   \n",
       "15130                    0.000                  0.000   \n",
       "15131                    0.000                  0.000   \n",
       "...                        ...                    ...   \n",
       "15342                 1307.021                 38.385   \n",
       "15343                 1344.738                 37.717   \n",
       "15344                 1382.788                 38.050   \n",
       "15345                 1423.572                 40.784   \n",
       "15346                 1468.890                 45.317   \n",
       "\n",
       "       total_deaths_per_million  new_deaths_per_million      new_tests  ...  \\\n",
       "15127                     0.000                   0.000  174257.730769  ...   \n",
       "15128                     0.000                   0.000  174257.730769  ...   \n",
       "15129                     0.000                   0.000  174257.730769  ...   \n",
       "15130                     0.000                   0.000  174257.730769  ...   \n",
       "15131                     0.000                   0.000  174257.730769  ...   \n",
       "...                         ...                     ...            ...  ...   \n",
       "15342                    27.634                   0.559  381027.000000  ...   \n",
       "15343                    28.216                   0.582  661892.000000  ...   \n",
       "15344                    28.837                   0.621  619652.000000  ...   \n",
       "15345                    29.492                   0.655  664949.000000  ...   \n",
       "15346                    30.134                   0.642  639042.000000  ...   \n",
       "\n",
       "       aged_70_older  gdp_per_capita  extreme_poverty  cardiovasc_death_rate  \\\n",
       "15127          3.414        6426.674             21.2                 282.28   \n",
       "15128          3.414        6426.674             21.2                 282.28   \n",
       "15129          3.414        6426.674             21.2                 282.28   \n",
       "15130          3.414        6426.674             21.2                 282.28   \n",
       "15131          3.414        6426.674             21.2                 282.28   \n",
       "...              ...             ...              ...                    ...   \n",
       "15342          3.414        6426.674             21.2                 282.28   \n",
       "15343          3.414        6426.674             21.2                 282.28   \n",
       "15344          3.414        6426.674             21.2                 282.28   \n",
       "15345          3.414        6426.674             21.2                 282.28   \n",
       "15346          3.414        6426.674             21.2                 282.28   \n",
       "\n",
       "       diabetes_prevalence  female_smokers  male_smokers  \\\n",
       "15127                10.39             1.9          20.6   \n",
       "15128                10.39             1.9          20.6   \n",
       "15129                10.39             1.9          20.6   \n",
       "15130                10.39             1.9          20.6   \n",
       "15131                10.39             1.9          20.6   \n",
       "...                    ...             ...           ...   \n",
       "15342                10.39             1.9          20.6   \n",
       "15343                10.39             1.9          20.6   \n",
       "15344                10.39             1.9          20.6   \n",
       "15345                10.39             1.9          20.6   \n",
       "15346                10.39             1.9          20.6   \n",
       "\n",
       "      handwashing_facilities  hospital_beds_per_thousand  life_expectancy  \n",
       "15127                  59.55                        0.53            69.66  \n",
       "15128                  59.55                        0.53            69.66  \n",
       "15129                  59.55                        0.53            69.66  \n",
       "15130                  59.55                        0.53            69.66  \n",
       "15131                  59.55                        0.53            69.66  \n",
       "...                      ...                         ...              ...  \n",
       "15342                  59.55                        0.53            69.66  \n",
       "15343                  59.55                        0.53            69.66  \n",
       "15344                  59.55                        0.53            69.66  \n",
       "15345                  59.55                        0.53            69.66  \n",
       "15346                  59.55                        0.53            69.66  \n",
       "\n",
       "[220 rows x 33 columns]"
      ]
     },
     "execution_count": 44,
     "metadata": {},
     "output_type": "execute_result"
    }
   ],
   "source": [
    "df_india"
   ]
  },
  {
   "cell_type": "markdown",
   "metadata": {},
   "source": [
    "## 7.b. Converting Categorical to Numerical by LabelEncoder"
   ]
  },
  {
   "cell_type": "code",
   "execution_count": 45,
   "metadata": {},
   "outputs": [],
   "source": [
    "df_india['tests_units'] = df_india['tests_units'].astype('category')\n",
    "df_india['tests_units'] = df_india['tests_units'].cat.codes"
   ]
  },
  {
   "cell_type": "markdown",
   "metadata": {},
   "source": [
    "## 8. Select \"total_cases\" column as target variable"
   ]
  },
  {
   "cell_type": "markdown",
   "metadata": {},
   "source": [
    "## 9. Selecting other columns as features"
   ]
  },
  {
   "cell_type": "markdown",
   "metadata": {},
   "source": [
    "## 10. Performing Train-Test Split"
   ]
  },
  {
   "cell_type": "code",
   "execution_count": 46,
   "metadata": {},
   "outputs": [
    {
     "data": {
      "text/html": [
       "<div>\n",
       "<style scoped>\n",
       "    .dataframe tbody tr th:only-of-type {\n",
       "        vertical-align: middle;\n",
       "    }\n",
       "\n",
       "    .dataframe tbody tr th {\n",
       "        vertical-align: top;\n",
       "    }\n",
       "\n",
       "    .dataframe thead th {\n",
       "        text-align: right;\n",
       "    }\n",
       "</style>\n",
       "<table border=\"1\" class=\"dataframe\">\n",
       "  <thead>\n",
       "    <tr style=\"text-align: right;\">\n",
       "      <th></th>\n",
       "      <th>date</th>\n",
       "      <th>new_cases</th>\n",
       "      <th>total_deaths</th>\n",
       "      <th>new_deaths</th>\n",
       "      <th>total_cases_per_million</th>\n",
       "      <th>new_cases_per_million</th>\n",
       "      <th>total_deaths_per_million</th>\n",
       "      <th>new_deaths_per_million</th>\n",
       "      <th>new_tests</th>\n",
       "      <th>total_tests</th>\n",
       "      <th>...</th>\n",
       "      <th>aged_70_older</th>\n",
       "      <th>gdp_per_capita</th>\n",
       "      <th>extreme_poverty</th>\n",
       "      <th>cardiovasc_death_rate</th>\n",
       "      <th>diabetes_prevalence</th>\n",
       "      <th>female_smokers</th>\n",
       "      <th>male_smokers</th>\n",
       "      <th>handwashing_facilities</th>\n",
       "      <th>hospital_beds_per_thousand</th>\n",
       "      <th>life_expectancy</th>\n",
       "    </tr>\n",
       "  </thead>\n",
       "  <tbody>\n",
       "    <tr>\n",
       "      <td>15286</td>\n",
       "      <td>737584</td>\n",
       "      <td>9983.0</td>\n",
       "      <td>7135.0</td>\n",
       "      <td>206.0</td>\n",
       "      <td>185.949</td>\n",
       "      <td>7.234</td>\n",
       "      <td>5.170</td>\n",
       "      <td>0.149</td>\n",
       "      <td>108048.000000</td>\n",
       "      <td>4.774434e+06</td>\n",
       "      <td>...</td>\n",
       "      <td>3.414</td>\n",
       "      <td>6426.674</td>\n",
       "      <td>21.2</td>\n",
       "      <td>282.28</td>\n",
       "      <td>10.39</td>\n",
       "      <td>1.9</td>\n",
       "      <td>20.6</td>\n",
       "      <td>59.55</td>\n",
       "      <td>0.53</td>\n",
       "      <td>69.66</td>\n",
       "    </tr>\n",
       "    <tr>\n",
       "      <td>15207</td>\n",
       "      <td>737505</td>\n",
       "      <td>40.0</td>\n",
       "      <td>4.0</td>\n",
       "      <td>0.0</td>\n",
       "      <td>0.167</td>\n",
       "      <td>0.029</td>\n",
       "      <td>0.003</td>\n",
       "      <td>0.000</td>\n",
       "      <td>1325.000000</td>\n",
       "      <td>1.570100e+04</td>\n",
       "      <td>...</td>\n",
       "      <td>3.414</td>\n",
       "      <td>6426.674</td>\n",
       "      <td>21.2</td>\n",
       "      <td>282.28</td>\n",
       "      <td>10.39</td>\n",
       "      <td>1.9</td>\n",
       "      <td>20.6</td>\n",
       "      <td>59.55</td>\n",
       "      <td>0.53</td>\n",
       "      <td>69.66</td>\n",
       "    </tr>\n",
       "    <tr>\n",
       "      <td>15289</td>\n",
       "      <td>737587</td>\n",
       "      <td>9996.0</td>\n",
       "      <td>8102.0</td>\n",
       "      <td>357.0</td>\n",
       "      <td>207.665</td>\n",
       "      <td>7.243</td>\n",
       "      <td>5.871</td>\n",
       "      <td>0.259</td>\n",
       "      <td>151808.000000</td>\n",
       "      <td>5.213140e+06</td>\n",
       "      <td>...</td>\n",
       "      <td>3.414</td>\n",
       "      <td>6426.674</td>\n",
       "      <td>21.2</td>\n",
       "      <td>282.28</td>\n",
       "      <td>10.39</td>\n",
       "      <td>1.9</td>\n",
       "      <td>20.6</td>\n",
       "      <td>59.55</td>\n",
       "      <td>0.53</td>\n",
       "      <td>69.66</td>\n",
       "    </tr>\n",
       "    <tr>\n",
       "      <td>15136</td>\n",
       "      <td>737433</td>\n",
       "      <td>0.0</td>\n",
       "      <td>0.0</td>\n",
       "      <td>0.0</td>\n",
       "      <td>0.000</td>\n",
       "      <td>0.000</td>\n",
       "      <td>0.000</td>\n",
       "      <td>0.000</td>\n",
       "      <td>174257.730769</td>\n",
       "      <td>5.955752e+06</td>\n",
       "      <td>...</td>\n",
       "      <td>3.414</td>\n",
       "      <td>6426.674</td>\n",
       "      <td>21.2</td>\n",
       "      <td>282.28</td>\n",
       "      <td>10.39</td>\n",
       "      <td>1.9</td>\n",
       "      <td>20.6</td>\n",
       "      <td>59.55</td>\n",
       "      <td>0.53</td>\n",
       "      <td>69.66</td>\n",
       "    </tr>\n",
       "    <tr>\n",
       "      <td>15222</td>\n",
       "      <td>737520</td>\n",
       "      <td>472.0</td>\n",
       "      <td>77.0</td>\n",
       "      <td>9.0</td>\n",
       "      <td>2.445</td>\n",
       "      <td>0.342</td>\n",
       "      <td>0.056</td>\n",
       "      <td>0.007</td>\n",
       "      <td>9584.000000</td>\n",
       "      <td>8.953400e+04</td>\n",
       "      <td>...</td>\n",
       "      <td>3.414</td>\n",
       "      <td>6426.674</td>\n",
       "      <td>21.2</td>\n",
       "      <td>282.28</td>\n",
       "      <td>10.39</td>\n",
       "      <td>1.9</td>\n",
       "      <td>20.6</td>\n",
       "      <td>59.55</td>\n",
       "      <td>0.53</td>\n",
       "      <td>69.66</td>\n",
       "    </tr>\n",
       "  </tbody>\n",
       "</table>\n",
       "<p>5 rows × 32 columns</p>\n",
       "</div>"
      ],
      "text/plain": [
       "         date  new_cases  total_deaths  new_deaths  total_cases_per_million  \\\n",
       "15286  737584     9983.0        7135.0       206.0                  185.949   \n",
       "15207  737505       40.0           4.0         0.0                    0.167   \n",
       "15289  737587     9996.0        8102.0       357.0                  207.665   \n",
       "15136  737433        0.0           0.0         0.0                    0.000   \n",
       "15222  737520      472.0          77.0         9.0                    2.445   \n",
       "\n",
       "       new_cases_per_million  total_deaths_per_million  \\\n",
       "15286                  7.234                     5.170   \n",
       "15207                  0.029                     0.003   \n",
       "15289                  7.243                     5.871   \n",
       "15136                  0.000                     0.000   \n",
       "15222                  0.342                     0.056   \n",
       "\n",
       "       new_deaths_per_million      new_tests   total_tests  ...  \\\n",
       "15286                   0.149  108048.000000  4.774434e+06  ...   \n",
       "15207                   0.000    1325.000000  1.570100e+04  ...   \n",
       "15289                   0.259  151808.000000  5.213140e+06  ...   \n",
       "15136                   0.000  174257.730769  5.955752e+06  ...   \n",
       "15222                   0.007    9584.000000  8.953400e+04  ...   \n",
       "\n",
       "       aged_70_older  gdp_per_capita  extreme_poverty  cardiovasc_death_rate  \\\n",
       "15286          3.414        6426.674             21.2                 282.28   \n",
       "15207          3.414        6426.674             21.2                 282.28   \n",
       "15289          3.414        6426.674             21.2                 282.28   \n",
       "15136          3.414        6426.674             21.2                 282.28   \n",
       "15222          3.414        6426.674             21.2                 282.28   \n",
       "\n",
       "       diabetes_prevalence  female_smokers  male_smokers  \\\n",
       "15286                10.39             1.9          20.6   \n",
       "15207                10.39             1.9          20.6   \n",
       "15289                10.39             1.9          20.6   \n",
       "15136                10.39             1.9          20.6   \n",
       "15222                10.39             1.9          20.6   \n",
       "\n",
       "       handwashing_facilities  hospital_beds_per_thousand  life_expectancy  \n",
       "15286                   59.55                        0.53            69.66  \n",
       "15207                   59.55                        0.53            69.66  \n",
       "15289                   59.55                        0.53            69.66  \n",
       "15136                   59.55                        0.53            69.66  \n",
       "15222                   59.55                        0.53            69.66  \n",
       "\n",
       "[5 rows x 32 columns]"
      ]
     },
     "execution_count": 46,
     "metadata": {},
     "output_type": "execute_result"
    }
   ],
   "source": [
    "y = df_india.total_cases\n",
    "x = df_india.drop(\"total_cases\",axis=1)\n",
    "\n",
    "x_train,x_test,y_train,y_test=train_test_split(x,y,test_size=0.2)\n",
    "x_train.head()"
   ]
  },
  {
   "cell_type": "code",
   "execution_count": 47,
   "metadata": {},
   "outputs": [
    {
     "data": {
      "text/plain": [
       "(176, 32)"
      ]
     },
     "execution_count": 47,
     "metadata": {},
     "output_type": "execute_result"
    }
   ],
   "source": [
    "x_train.shape"
   ]
  },
  {
   "cell_type": "markdown",
   "metadata": {},
   "source": [
    "## 11. Modelling"
   ]
  },
  {
   "cell_type": "markdown",
   "metadata": {},
   "source": [
    "### a. Linear Regression"
   ]
  },
  {
   "cell_type": "code",
   "execution_count": 48,
   "metadata": {},
   "outputs": [
    {
     "data": {
      "text/plain": [
       "LinearRegression(copy_X=True, fit_intercept=True, n_jobs=None, normalize=False)"
      ]
     },
     "execution_count": 48,
     "metadata": {},
     "output_type": "execute_result"
    }
   ],
   "source": [
    "regressor = LinearRegression()  \n",
    "regressor.fit(x_train, y_train)"
   ]
  },
  {
   "cell_type": "code",
   "execution_count": 49,
   "metadata": {},
   "outputs": [
    {
     "data": {
      "text/html": [
       "<div>\n",
       "<style scoped>\n",
       "    .dataframe tbody tr th:only-of-type {\n",
       "        vertical-align: middle;\n",
       "    }\n",
       "\n",
       "    .dataframe tbody tr th {\n",
       "        vertical-align: top;\n",
       "    }\n",
       "\n",
       "    .dataframe thead th {\n",
       "        text-align: right;\n",
       "    }\n",
       "</style>\n",
       "<table border=\"1\" class=\"dataframe\">\n",
       "  <thead>\n",
       "    <tr style=\"text-align: right;\">\n",
       "      <th></th>\n",
       "      <th>Coefficient</th>\n",
       "    </tr>\n",
       "  </thead>\n",
       "  <tbody>\n",
       "    <tr>\n",
       "      <td>date</td>\n",
       "      <td>3.049649e-03</td>\n",
       "    </tr>\n",
       "    <tr>\n",
       "      <td>new_cases</td>\n",
       "      <td>-1.327621e-01</td>\n",
       "    </tr>\n",
       "    <tr>\n",
       "      <td>total_deaths</td>\n",
       "      <td>-6.622473e-02</td>\n",
       "    </tr>\n",
       "    <tr>\n",
       "      <td>new_deaths</td>\n",
       "      <td>-4.784033e-02</td>\n",
       "    </tr>\n",
       "    <tr>\n",
       "      <td>total_cases_per_million</td>\n",
       "      <td>1.380005e+03</td>\n",
       "    </tr>\n",
       "    <tr>\n",
       "      <td>new_cases_per_million</td>\n",
       "      <td>1.831712e+02</td>\n",
       "    </tr>\n",
       "    <tr>\n",
       "      <td>total_deaths_per_million</td>\n",
       "      <td>9.139503e+01</td>\n",
       "    </tr>\n",
       "    <tr>\n",
       "      <td>new_deaths_per_million</td>\n",
       "      <td>6.606258e+01</td>\n",
       "    </tr>\n",
       "    <tr>\n",
       "      <td>new_tests</td>\n",
       "      <td>-1.194112e-05</td>\n",
       "    </tr>\n",
       "    <tr>\n",
       "      <td>total_tests</td>\n",
       "      <td>8.015546e-05</td>\n",
       "    </tr>\n",
       "    <tr>\n",
       "      <td>total_tests_per_thousand</td>\n",
       "      <td>-1.106280e+02</td>\n",
       "    </tr>\n",
       "    <tr>\n",
       "      <td>new_tests_per_thousand</td>\n",
       "      <td>1.757570e+01</td>\n",
       "    </tr>\n",
       "    <tr>\n",
       "      <td>new_tests_smoothed</td>\n",
       "      <td>1.766771e-04</td>\n",
       "    </tr>\n",
       "    <tr>\n",
       "      <td>new_tests_smoothed_per_thousand</td>\n",
       "      <td>-2.437668e+02</td>\n",
       "    </tr>\n",
       "    <tr>\n",
       "      <td>tests_per_case</td>\n",
       "      <td>1.949507e-02</td>\n",
       "    </tr>\n",
       "    <tr>\n",
       "      <td>positive_rate</td>\n",
       "      <td>6.889280e+00</td>\n",
       "    </tr>\n",
       "    <tr>\n",
       "      <td>tests_units</td>\n",
       "      <td>0.000000e+00</td>\n",
       "    </tr>\n",
       "    <tr>\n",
       "      <td>stringency_index</td>\n",
       "      <td>-1.978936e-03</td>\n",
       "    </tr>\n",
       "    <tr>\n",
       "      <td>population</td>\n",
       "      <td>0.000000e+00</td>\n",
       "    </tr>\n",
       "    <tr>\n",
       "      <td>population_density</td>\n",
       "      <td>2.958169e-15</td>\n",
       "    </tr>\n",
       "    <tr>\n",
       "      <td>median_age</td>\n",
       "      <td>1.848856e-16</td>\n",
       "    </tr>\n",
       "    <tr>\n",
       "      <td>aged_65_older</td>\n",
       "      <td>2.311070e-17</td>\n",
       "    </tr>\n",
       "    <tr>\n",
       "      <td>aged_70_older</td>\n",
       "      <td>-3.466512e-17</td>\n",
       "    </tr>\n",
       "    <tr>\n",
       "      <td>gdp_per_capita</td>\n",
       "      <td>0.000000e+00</td>\n",
       "    </tr>\n",
       "    <tr>\n",
       "      <td>extreme_poverty</td>\n",
       "      <td>9.244107e-17</td>\n",
       "    </tr>\n",
       "    <tr>\n",
       "      <td>cardiovasc_death_rate</td>\n",
       "      <td>1.479057e-15</td>\n",
       "    </tr>\n",
       "    <tr>\n",
       "      <td>diabetes_prevalence</td>\n",
       "      <td>0.000000e+00</td>\n",
       "    </tr>\n",
       "    <tr>\n",
       "      <td>female_smokers</td>\n",
       "      <td>0.000000e+00</td>\n",
       "    </tr>\n",
       "    <tr>\n",
       "      <td>male_smokers</td>\n",
       "      <td>9.244107e-17</td>\n",
       "    </tr>\n",
       "    <tr>\n",
       "      <td>handwashing_facilities</td>\n",
       "      <td>0.000000e+00</td>\n",
       "    </tr>\n",
       "    <tr>\n",
       "      <td>hospital_beds_per_thousand</td>\n",
       "      <td>-2.888779e-18</td>\n",
       "    </tr>\n",
       "    <tr>\n",
       "      <td>life_expectancy</td>\n",
       "      <td>3.697637e-16</td>\n",
       "    </tr>\n",
       "  </tbody>\n",
       "</table>\n",
       "</div>"
      ],
      "text/plain": [
       "                                  Coefficient\n",
       "date                             3.049649e-03\n",
       "new_cases                       -1.327621e-01\n",
       "total_deaths                    -6.622473e-02\n",
       "new_deaths                      -4.784033e-02\n",
       "total_cases_per_million          1.380005e+03\n",
       "new_cases_per_million            1.831712e+02\n",
       "total_deaths_per_million         9.139503e+01\n",
       "new_deaths_per_million           6.606258e+01\n",
       "new_tests                       -1.194112e-05\n",
       "total_tests                      8.015546e-05\n",
       "total_tests_per_thousand        -1.106280e+02\n",
       "new_tests_per_thousand           1.757570e+01\n",
       "new_tests_smoothed               1.766771e-04\n",
       "new_tests_smoothed_per_thousand -2.437668e+02\n",
       "tests_per_case                   1.949507e-02\n",
       "positive_rate                    6.889280e+00\n",
       "tests_units                      0.000000e+00\n",
       "stringency_index                -1.978936e-03\n",
       "population                       0.000000e+00\n",
       "population_density               2.958169e-15\n",
       "median_age                       1.848856e-16\n",
       "aged_65_older                    2.311070e-17\n",
       "aged_70_older                   -3.466512e-17\n",
       "gdp_per_capita                   0.000000e+00\n",
       "extreme_poverty                  9.244107e-17\n",
       "cardiovasc_death_rate            1.479057e-15\n",
       "diabetes_prevalence              0.000000e+00\n",
       "female_smokers                   0.000000e+00\n",
       "male_smokers                     9.244107e-17\n",
       "handwashing_facilities           0.000000e+00\n",
       "hospital_beds_per_thousand      -2.888779e-18\n",
       "life_expectancy                  3.697637e-16"
      ]
     },
     "execution_count": 49,
     "metadata": {},
     "output_type": "execute_result"
    }
   ],
   "source": [
    "coeff_df = pd.DataFrame(regressor.coef_, x.columns, columns=['Coefficient'])  \n",
    "coeff_df"
   ]
  },
  {
   "cell_type": "code",
   "execution_count": 50,
   "metadata": {},
   "outputs": [],
   "source": [
    "y_pred = regressor.predict(x_test)"
   ]
  },
  {
   "cell_type": "code",
   "execution_count": 51,
   "metadata": {},
   "outputs": [
    {
     "data": {
      "text/html": [
       "<div>\n",
       "<style scoped>\n",
       "    .dataframe tbody tr th:only-of-type {\n",
       "        vertical-align: middle;\n",
       "    }\n",
       "\n",
       "    .dataframe tbody tr th {\n",
       "        vertical-align: top;\n",
       "    }\n",
       "\n",
       "    .dataframe thead th {\n",
       "        text-align: right;\n",
       "    }\n",
       "</style>\n",
       "<table border=\"1\" class=\"dataframe\">\n",
       "  <thead>\n",
       "    <tr style=\"text-align: right;\">\n",
       "      <th></th>\n",
       "      <th>Actual</th>\n",
       "      <th>Predicted</th>\n",
       "    </tr>\n",
       "  </thead>\n",
       "  <tbody>\n",
       "    <tr>\n",
       "      <td>15234</td>\n",
       "      <td>13387.0</td>\n",
       "      <td>1.338751e+04</td>\n",
       "    </tr>\n",
       "    <tr>\n",
       "      <td>15151</td>\n",
       "      <td>0.0</td>\n",
       "      <td>8.430323e-02</td>\n",
       "    </tr>\n",
       "    <tr>\n",
       "      <td>15238</td>\n",
       "      <td>18600.0</td>\n",
       "      <td>1.859973e+04</td>\n",
       "    </tr>\n",
       "    <tr>\n",
       "      <td>15332</td>\n",
       "      <td>1287945.0</td>\n",
       "      <td>1.287945e+06</td>\n",
       "    </tr>\n",
       "    <tr>\n",
       "      <td>15276</td>\n",
       "      <td>165799.0</td>\n",
       "      <td>1.657993e+05</td>\n",
       "    </tr>\n",
       "    <tr>\n",
       "      <td>15166</td>\n",
       "      <td>3.0</td>\n",
       "      <td>2.869892e+00</td>\n",
       "    </tr>\n",
       "    <tr>\n",
       "      <td>15273</td>\n",
       "      <td>145380.0</td>\n",
       "      <td>1.453793e+05</td>\n",
       "    </tr>\n",
       "    <tr>\n",
       "      <td>15142</td>\n",
       "      <td>0.0</td>\n",
       "      <td>5.685639e-02</td>\n",
       "    </tr>\n",
       "    <tr>\n",
       "      <td>15157</td>\n",
       "      <td>1.0</td>\n",
       "      <td>1.512850e+00</td>\n",
       "    </tr>\n",
       "    <tr>\n",
       "      <td>15148</td>\n",
       "      <td>0.0</td>\n",
       "      <td>7.515428e-02</td>\n",
       "    </tr>\n",
       "    <tr>\n",
       "      <td>15309</td>\n",
       "      <td>585493.0</td>\n",
       "      <td>5.854932e+05</td>\n",
       "    </tr>\n",
       "    <tr>\n",
       "      <td>15306</td>\n",
       "      <td>528859.0</td>\n",
       "      <td>5.288592e+05</td>\n",
       "    </tr>\n",
       "    <tr>\n",
       "      <td>15220</td>\n",
       "      <td>2301.0</td>\n",
       "      <td>2.300469e+03</td>\n",
       "    </tr>\n",
       "    <tr>\n",
       "      <td>15139</td>\n",
       "      <td>0.0</td>\n",
       "      <td>4.770744e-02</td>\n",
       "    </tr>\n",
       "    <tr>\n",
       "      <td>15247</td>\n",
       "      <td>33050.0</td>\n",
       "      <td>3.304982e+04</td>\n",
       "    </tr>\n",
       "    <tr>\n",
       "      <td>15285</td>\n",
       "      <td>246628.0</td>\n",
       "      <td>2.466276e+05</td>\n",
       "    </tr>\n",
       "    <tr>\n",
       "      <td>15298</td>\n",
       "      <td>395048.0</td>\n",
       "      <td>3.950485e+05</td>\n",
       "    </tr>\n",
       "    <tr>\n",
       "      <td>15208</td>\n",
       "      <td>320.0</td>\n",
       "      <td>3.201018e+02</td>\n",
       "    </tr>\n",
       "    <tr>\n",
       "      <td>15149</td>\n",
       "      <td>0.0</td>\n",
       "      <td>7.820393e-02</td>\n",
       "    </tr>\n",
       "    <tr>\n",
       "      <td>15334</td>\n",
       "      <td>1385522.0</td>\n",
       "      <td>1.385521e+06</td>\n",
       "    </tr>\n",
       "    <tr>\n",
       "      <td>15133</td>\n",
       "      <td>0.0</td>\n",
       "      <td>2.940955e-02</td>\n",
       "    </tr>\n",
       "    <tr>\n",
       "      <td>15308</td>\n",
       "      <td>566840.0</td>\n",
       "      <td>5.668398e+05</td>\n",
       "    </tr>\n",
       "    <tr>\n",
       "      <td>15321</td>\n",
       "      <td>878254.0</td>\n",
       "      <td>8.782542e+05</td>\n",
       "    </tr>\n",
       "    <tr>\n",
       "      <td>15281</td>\n",
       "      <td>207615.0</td>\n",
       "      <td>2.076150e+05</td>\n",
       "    </tr>\n",
       "    <tr>\n",
       "      <td>15171</td>\n",
       "      <td>3.0</td>\n",
       "      <td>2.885140e+00</td>\n",
       "    </tr>\n",
       "    <tr>\n",
       "      <td>15344</td>\n",
       "      <td>1908254.0</td>\n",
       "      <td>1.908254e+06</td>\n",
       "    </tr>\n",
       "    <tr>\n",
       "      <td>15144</td>\n",
       "      <td>0.0</td>\n",
       "      <td>6.295569e-02</td>\n",
       "    </tr>\n",
       "    <tr>\n",
       "      <td>15216</td>\n",
       "      <td>1071.0</td>\n",
       "      <td>1.070947e+03</td>\n",
       "    </tr>\n",
       "    <tr>\n",
       "      <td>15178</td>\n",
       "      <td>3.0</td>\n",
       "      <td>2.906488e+00</td>\n",
       "    </tr>\n",
       "    <tr>\n",
       "      <td>15278</td>\n",
       "      <td>182143.0</td>\n",
       "      <td>1.821427e+05</td>\n",
       "    </tr>\n",
       "    <tr>\n",
       "      <td>15296</td>\n",
       "      <td>366946.0</td>\n",
       "      <td>3.669461e+05</td>\n",
       "    </tr>\n",
       "    <tr>\n",
       "      <td>15268</td>\n",
       "      <td>112359.0</td>\n",
       "      <td>1.123586e+05</td>\n",
       "    </tr>\n",
       "    <tr>\n",
       "      <td>15244</td>\n",
       "      <td>27892.0</td>\n",
       "      <td>2.789286e+04</td>\n",
       "    </tr>\n",
       "    <tr>\n",
       "      <td>15307</td>\n",
       "      <td>548318.0</td>\n",
       "      <td>5.483185e+05</td>\n",
       "    </tr>\n",
       "    <tr>\n",
       "      <td>15141</td>\n",
       "      <td>0.0</td>\n",
       "      <td>5.380674e-02</td>\n",
       "    </tr>\n",
       "    <tr>\n",
       "      <td>15161</td>\n",
       "      <td>2.0</td>\n",
       "      <td>1.474639e+00</td>\n",
       "    </tr>\n",
       "    <tr>\n",
       "      <td>15145</td>\n",
       "      <td>0.0</td>\n",
       "      <td>6.600534e-02</td>\n",
       "    </tr>\n",
       "    <tr>\n",
       "      <td>15252</td>\n",
       "      <td>46433.0</td>\n",
       "      <td>4.643306e+04</td>\n",
       "    </tr>\n",
       "    <tr>\n",
       "      <td>15162</td>\n",
       "      <td>3.0</td>\n",
       "      <td>2.908103e+00</td>\n",
       "    </tr>\n",
       "    <tr>\n",
       "      <td>15342</td>\n",
       "      <td>1803695.0</td>\n",
       "      <td>1.803694e+06</td>\n",
       "    </tr>\n",
       "    <tr>\n",
       "      <td>15343</td>\n",
       "      <td>1855745.0</td>\n",
       "      <td>1.855745e+06</td>\n",
       "    </tr>\n",
       "    <tr>\n",
       "      <td>15339</td>\n",
       "      <td>1638870.0</td>\n",
       "      <td>1.638870e+06</td>\n",
       "    </tr>\n",
       "    <tr>\n",
       "      <td>15256</td>\n",
       "      <td>59662.0</td>\n",
       "      <td>5.966180e+04</td>\n",
       "    </tr>\n",
       "    <tr>\n",
       "      <td>15261</td>\n",
       "      <td>78003.0</td>\n",
       "      <td>7.800343e+04</td>\n",
       "    </tr>\n",
       "  </tbody>\n",
       "</table>\n",
       "</div>"
      ],
      "text/plain": [
       "          Actual     Predicted\n",
       "15234    13387.0  1.338751e+04\n",
       "15151        0.0  8.430323e-02\n",
       "15238    18600.0  1.859973e+04\n",
       "15332  1287945.0  1.287945e+06\n",
       "15276   165799.0  1.657993e+05\n",
       "15166        3.0  2.869892e+00\n",
       "15273   145380.0  1.453793e+05\n",
       "15142        0.0  5.685639e-02\n",
       "15157        1.0  1.512850e+00\n",
       "15148        0.0  7.515428e-02\n",
       "15309   585493.0  5.854932e+05\n",
       "15306   528859.0  5.288592e+05\n",
       "15220     2301.0  2.300469e+03\n",
       "15139        0.0  4.770744e-02\n",
       "15247    33050.0  3.304982e+04\n",
       "15285   246628.0  2.466276e+05\n",
       "15298   395048.0  3.950485e+05\n",
       "15208      320.0  3.201018e+02\n",
       "15149        0.0  7.820393e-02\n",
       "15334  1385522.0  1.385521e+06\n",
       "15133        0.0  2.940955e-02\n",
       "15308   566840.0  5.668398e+05\n",
       "15321   878254.0  8.782542e+05\n",
       "15281   207615.0  2.076150e+05\n",
       "15171        3.0  2.885140e+00\n",
       "15344  1908254.0  1.908254e+06\n",
       "15144        0.0  6.295569e-02\n",
       "15216     1071.0  1.070947e+03\n",
       "15178        3.0  2.906488e+00\n",
       "15278   182143.0  1.821427e+05\n",
       "15296   366946.0  3.669461e+05\n",
       "15268   112359.0  1.123586e+05\n",
       "15244    27892.0  2.789286e+04\n",
       "15307   548318.0  5.483185e+05\n",
       "15141        0.0  5.380674e-02\n",
       "15161        2.0  1.474639e+00\n",
       "15145        0.0  6.600534e-02\n",
       "15252    46433.0  4.643306e+04\n",
       "15162        3.0  2.908103e+00\n",
       "15342  1803695.0  1.803694e+06\n",
       "15343  1855745.0  1.855745e+06\n",
       "15339  1638870.0  1.638870e+06\n",
       "15256    59662.0  5.966180e+04\n",
       "15261    78003.0  7.800343e+04"
      ]
     },
     "execution_count": 51,
     "metadata": {},
     "output_type": "execute_result"
    }
   ],
   "source": [
    "diff = pd.DataFrame({'Actual': y_test, 'Predicted': y_pred})\n",
    "diff"
   ]
  },
  {
   "cell_type": "code",
   "execution_count": 52,
   "metadata": {},
   "outputs": [
    {
     "name": "stdout",
     "output_type": "stream",
     "text": [
      "Mean Absolute Error: 0.2774487206775327\n",
      "Mean Squared Error: 0.12347690634481516\n",
      "Root Mean Squared Error: 0.3513928091819967\n"
     ]
    }
   ],
   "source": [
    "print('Mean Absolute Error:', metrics.mean_absolute_error(y_test, y_pred))  \n",
    "print('Mean Squared Error:', metrics.mean_squared_error(y_test, y_pred))  \n",
    "print('Root Mean Squared Error:', np.sqrt(metrics.mean_squared_error(y_test, y_pred)))"
   ]
  },
  {
   "cell_type": "markdown",
   "metadata": {},
   "source": [
    "### Random-Forest Regression"
   ]
  },
  {
   "cell_type": "code",
   "execution_count": 53,
   "metadata": {},
   "outputs": [
    {
     "data": {
      "text/plain": [
       "RandomForestRegressor(bootstrap=True, criterion='mse', max_depth=None,\n",
       "                      max_features='auto', max_leaf_nodes=None,\n",
       "                      min_impurity_decrease=0.0, min_impurity_split=None,\n",
       "                      min_samples_leaf=1, min_samples_split=2,\n",
       "                      min_weight_fraction_leaf=0.0, n_estimators=100,\n",
       "                      n_jobs=None, oob_score=False, random_state=0, verbose=0,\n",
       "                      warm_start=False)"
      ]
     },
     "execution_count": 53,
     "metadata": {},
     "output_type": "execute_result"
    }
   ],
   "source": [
    "regressor = RandomForestRegressor(n_estimators = 100, random_state = 0)\n",
    "\n",
    "regressor.fit(x, y)"
   ]
  },
  {
   "cell_type": "code",
   "execution_count": 54,
   "metadata": {},
   "outputs": [],
   "source": [
    "y_pred = regressor.predict(x_test)"
   ]
  },
  {
   "cell_type": "code",
   "execution_count": 55,
   "metadata": {},
   "outputs": [
    {
     "data": {
      "text/html": [
       "<div>\n",
       "<style scoped>\n",
       "    .dataframe tbody tr th:only-of-type {\n",
       "        vertical-align: middle;\n",
       "    }\n",
       "\n",
       "    .dataframe tbody tr th {\n",
       "        vertical-align: top;\n",
       "    }\n",
       "\n",
       "    .dataframe thead th {\n",
       "        text-align: right;\n",
       "    }\n",
       "</style>\n",
       "<table border=\"1\" class=\"dataframe\">\n",
       "  <thead>\n",
       "    <tr style=\"text-align: right;\">\n",
       "      <th></th>\n",
       "      <th>Actual</th>\n",
       "      <th>Predicted</th>\n",
       "    </tr>\n",
       "  </thead>\n",
       "  <tbody>\n",
       "    <tr>\n",
       "      <td>15234</td>\n",
       "      <td>13387.0</td>\n",
       "      <td>13036.25</td>\n",
       "    </tr>\n",
       "    <tr>\n",
       "      <td>15151</td>\n",
       "      <td>0.0</td>\n",
       "      <td>0.00</td>\n",
       "    </tr>\n",
       "    <tr>\n",
       "      <td>15238</td>\n",
       "      <td>18600.0</td>\n",
       "      <td>18400.85</td>\n",
       "    </tr>\n",
       "    <tr>\n",
       "      <td>15332</td>\n",
       "      <td>1287945.0</td>\n",
       "      <td>1293826.48</td>\n",
       "    </tr>\n",
       "    <tr>\n",
       "      <td>15276</td>\n",
       "      <td>165799.0</td>\n",
       "      <td>164388.49</td>\n",
       "    </tr>\n",
       "    <tr>\n",
       "      <td>15166</td>\n",
       "      <td>3.0</td>\n",
       "      <td>3.00</td>\n",
       "    </tr>\n",
       "    <tr>\n",
       "      <td>15273</td>\n",
       "      <td>145380.0</td>\n",
       "      <td>143502.38</td>\n",
       "    </tr>\n",
       "    <tr>\n",
       "      <td>15142</td>\n",
       "      <td>0.0</td>\n",
       "      <td>0.00</td>\n",
       "    </tr>\n",
       "    <tr>\n",
       "      <td>15157</td>\n",
       "      <td>1.0</td>\n",
       "      <td>0.94</td>\n",
       "    </tr>\n",
       "    <tr>\n",
       "      <td>15148</td>\n",
       "      <td>0.0</td>\n",
       "      <td>0.00</td>\n",
       "    </tr>\n",
       "    <tr>\n",
       "      <td>15309</td>\n",
       "      <td>585493.0</td>\n",
       "      <td>588456.82</td>\n",
       "    </tr>\n",
       "    <tr>\n",
       "      <td>15306</td>\n",
       "      <td>528859.0</td>\n",
       "      <td>535512.44</td>\n",
       "    </tr>\n",
       "    <tr>\n",
       "      <td>15220</td>\n",
       "      <td>2301.0</td>\n",
       "      <td>2261.43</td>\n",
       "    </tr>\n",
       "    <tr>\n",
       "      <td>15139</td>\n",
       "      <td>0.0</td>\n",
       "      <td>0.00</td>\n",
       "    </tr>\n",
       "    <tr>\n",
       "      <td>15247</td>\n",
       "      <td>33050.0</td>\n",
       "      <td>33122.52</td>\n",
       "    </tr>\n",
       "    <tr>\n",
       "      <td>15285</td>\n",
       "      <td>246628.0</td>\n",
       "      <td>247258.65</td>\n",
       "    </tr>\n",
       "    <tr>\n",
       "      <td>15298</td>\n",
       "      <td>395048.0</td>\n",
       "      <td>396081.76</td>\n",
       "    </tr>\n",
       "    <tr>\n",
       "      <td>15208</td>\n",
       "      <td>320.0</td>\n",
       "      <td>337.48</td>\n",
       "    </tr>\n",
       "    <tr>\n",
       "      <td>15149</td>\n",
       "      <td>0.0</td>\n",
       "      <td>0.00</td>\n",
       "    </tr>\n",
       "    <tr>\n",
       "      <td>15334</td>\n",
       "      <td>1385522.0</td>\n",
       "      <td>1371010.00</td>\n",
       "    </tr>\n",
       "    <tr>\n",
       "      <td>15133</td>\n",
       "      <td>0.0</td>\n",
       "      <td>0.00</td>\n",
       "    </tr>\n",
       "    <tr>\n",
       "      <td>15308</td>\n",
       "      <td>566840.0</td>\n",
       "      <td>560640.17</td>\n",
       "    </tr>\n",
       "    <tr>\n",
       "      <td>15321</td>\n",
       "      <td>878254.0</td>\n",
       "      <td>860760.86</td>\n",
       "    </tr>\n",
       "    <tr>\n",
       "      <td>15281</td>\n",
       "      <td>207615.0</td>\n",
       "      <td>207765.66</td>\n",
       "    </tr>\n",
       "    <tr>\n",
       "      <td>15171</td>\n",
       "      <td>3.0</td>\n",
       "      <td>3.00</td>\n",
       "    </tr>\n",
       "    <tr>\n",
       "      <td>15344</td>\n",
       "      <td>1908254.0</td>\n",
       "      <td>1890455.80</td>\n",
       "    </tr>\n",
       "    <tr>\n",
       "      <td>15144</td>\n",
       "      <td>0.0</td>\n",
       "      <td>0.00</td>\n",
       "    </tr>\n",
       "    <tr>\n",
       "      <td>15216</td>\n",
       "      <td>1071.0</td>\n",
       "      <td>1069.95</td>\n",
       "    </tr>\n",
       "    <tr>\n",
       "      <td>15178</td>\n",
       "      <td>3.0</td>\n",
       "      <td>3.00</td>\n",
       "    </tr>\n",
       "    <tr>\n",
       "      <td>15278</td>\n",
       "      <td>182143.0</td>\n",
       "      <td>181779.38</td>\n",
       "    </tr>\n",
       "    <tr>\n",
       "      <td>15296</td>\n",
       "      <td>366946.0</td>\n",
       "      <td>365204.50</td>\n",
       "    </tr>\n",
       "    <tr>\n",
       "      <td>15268</td>\n",
       "      <td>112359.0</td>\n",
       "      <td>110993.53</td>\n",
       "    </tr>\n",
       "    <tr>\n",
       "      <td>15244</td>\n",
       "      <td>27892.0</td>\n",
       "      <td>27215.49</td>\n",
       "    </tr>\n",
       "    <tr>\n",
       "      <td>15307</td>\n",
       "      <td>548318.0</td>\n",
       "      <td>540338.20</td>\n",
       "    </tr>\n",
       "    <tr>\n",
       "      <td>15141</td>\n",
       "      <td>0.0</td>\n",
       "      <td>0.00</td>\n",
       "    </tr>\n",
       "    <tr>\n",
       "      <td>15161</td>\n",
       "      <td>2.0</td>\n",
       "      <td>1.98</td>\n",
       "    </tr>\n",
       "    <tr>\n",
       "      <td>15145</td>\n",
       "      <td>0.0</td>\n",
       "      <td>0.00</td>\n",
       "    </tr>\n",
       "    <tr>\n",
       "      <td>15252</td>\n",
       "      <td>46433.0</td>\n",
       "      <td>50812.61</td>\n",
       "    </tr>\n",
       "    <tr>\n",
       "      <td>15162</td>\n",
       "      <td>3.0</td>\n",
       "      <td>3.00</td>\n",
       "    </tr>\n",
       "    <tr>\n",
       "      <td>15342</td>\n",
       "      <td>1803695.0</td>\n",
       "      <td>1755359.40</td>\n",
       "    </tr>\n",
       "    <tr>\n",
       "      <td>15343</td>\n",
       "      <td>1855745.0</td>\n",
       "      <td>1839113.18</td>\n",
       "    </tr>\n",
       "    <tr>\n",
       "      <td>15339</td>\n",
       "      <td>1638870.0</td>\n",
       "      <td>1654206.32</td>\n",
       "    </tr>\n",
       "    <tr>\n",
       "      <td>15256</td>\n",
       "      <td>59662.0</td>\n",
       "      <td>59720.29</td>\n",
       "    </tr>\n",
       "    <tr>\n",
       "      <td>15261</td>\n",
       "      <td>78003.0</td>\n",
       "      <td>78569.85</td>\n",
       "    </tr>\n",
       "  </tbody>\n",
       "</table>\n",
       "</div>"
      ],
      "text/plain": [
       "          Actual   Predicted\n",
       "15234    13387.0    13036.25\n",
       "15151        0.0        0.00\n",
       "15238    18600.0    18400.85\n",
       "15332  1287945.0  1293826.48\n",
       "15276   165799.0   164388.49\n",
       "15166        3.0        3.00\n",
       "15273   145380.0   143502.38\n",
       "15142        0.0        0.00\n",
       "15157        1.0        0.94\n",
       "15148        0.0        0.00\n",
       "15309   585493.0   588456.82\n",
       "15306   528859.0   535512.44\n",
       "15220     2301.0     2261.43\n",
       "15139        0.0        0.00\n",
       "15247    33050.0    33122.52\n",
       "15285   246628.0   247258.65\n",
       "15298   395048.0   396081.76\n",
       "15208      320.0      337.48\n",
       "15149        0.0        0.00\n",
       "15334  1385522.0  1371010.00\n",
       "15133        0.0        0.00\n",
       "15308   566840.0   560640.17\n",
       "15321   878254.0   860760.86\n",
       "15281   207615.0   207765.66\n",
       "15171        3.0        3.00\n",
       "15344  1908254.0  1890455.80\n",
       "15144        0.0        0.00\n",
       "15216     1071.0     1069.95\n",
       "15178        3.0        3.00\n",
       "15278   182143.0   181779.38\n",
       "15296   366946.0   365204.50\n",
       "15268   112359.0   110993.53\n",
       "15244    27892.0    27215.49\n",
       "15307   548318.0   540338.20\n",
       "15141        0.0        0.00\n",
       "15161        2.0        1.98\n",
       "15145        0.0        0.00\n",
       "15252    46433.0    50812.61\n",
       "15162        3.0        3.00\n",
       "15342  1803695.0  1755359.40\n",
       "15343  1855745.0  1839113.18\n",
       "15339  1638870.0  1654206.32\n",
       "15256    59662.0    59720.29\n",
       "15261    78003.0    78569.85"
      ]
     },
     "execution_count": 55,
     "metadata": {},
     "output_type": "execute_result"
    }
   ],
   "source": [
    "diff = pd.DataFrame({'Actual': y_test, 'Predicted': y_pred})\n",
    "diff"
   ]
  }
 ],
 "metadata": {
  "kernelspec": {
   "display_name": "Python 3",
   "language": "python",
   "name": "python3"
  },
  "language_info": {
   "codemirror_mode": {
    "name": "ipython",
    "version": 3
   },
   "file_extension": ".py",
   "mimetype": "text/x-python",
   "name": "python",
   "nbconvert_exporter": "python",
   "pygments_lexer": "ipython3",
   "version": "3.7.4"
  }
 },
 "nbformat": 4,
 "nbformat_minor": 2
}
